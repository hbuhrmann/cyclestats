{
 "cells": [
  {
   "cell_type": "code",
   "execution_count": 1,
   "metadata": {},
   "outputs": [],
   "source": [
    "import pandas as pd\n",
    "import numpy as np\n",
    "import matplotlib.pyplot as py\n",
    "from datetime import datetime as dt"
   ]
  },
  {
   "cell_type": "code",
   "execution_count": 2,
   "metadata": {},
   "outputs": [],
   "source": [
    "#Read the datafile into a DataFrame\n",
    "#The supplied files are clean, if you have data with nans or null values, you may have to do some extra cleaning up\n",
    "\n",
    "df = pd.read_csv('c:/temp/bigcycledata.csv',dtype={'Watts':np.int,'Cadence':np.int,'HeartRate':np.int},parse_dates=True)\n",
    "#df = pd.read_csv('c:/temp/cycledata.csv',parse_dates=True)"
   ]
  },
  {
   "cell_type": "code",
   "execution_count": 3,
   "metadata": {},
   "outputs": [],
   "source": [
    "#Change the string datetime to a proper datetime format\n",
    "\n",
    "df['datetime']=pd.to_datetime(df.Time)\n",
    "\n",
    "# Set the elapsed duration between between each subsequent row \n",
    "# this would normally be 1 second, but sometimes it isn't\n",
    "\n",
    "df['duration']=(df.datetime.shift(periods=-1)-df.datetime)\n",
    "\n",
    "# Update NaT values to 0 seconds, as our dataframe is not allowed to contain non numeric values\n",
    "\n",
    "df.loc[df['duration'].isnull(),'duration']=np.timedelta64(1,'s')\n",
    "\n",
    "# Turn the duration into an integer value in seconds\n",
    "df['durationseconds']=np.divide(df['duration'], np.timedelta64(1, 's'))\n"
   ]
  },
  {
   "cell_type": "code",
   "execution_count": 4,
   "metadata": {},
   "outputs": [
    {
     "data": {
      "text/html": [
       "<div>\n",
       "<style scoped>\n",
       "    .dataframe tbody tr th:only-of-type {\n",
       "        vertical-align: middle;\n",
       "    }\n",
       "\n",
       "    .dataframe tbody tr th {\n",
       "        vertical-align: top;\n",
       "    }\n",
       "\n",
       "    .dataframe thead th {\n",
       "        text-align: right;\n",
       "    }\n",
       "</style>\n",
       "<table border=\"1\" class=\"dataframe\">\n",
       "  <thead>\n",
       "    <tr style=\"text-align: right;\">\n",
       "      <th></th>\n",
       "      <th>Time</th>\n",
       "      <th>Watts</th>\n",
       "      <th>duration</th>\n",
       "      <th>durationseconds</th>\n",
       "    </tr>\n",
       "  </thead>\n",
       "  <tbody>\n",
       "    <tr>\n",
       "      <th>0</th>\n",
       "      <td>2020/02/12 9:46:33</td>\n",
       "      <td>62</td>\n",
       "      <td>00:00:01</td>\n",
       "      <td>1.0</td>\n",
       "    </tr>\n",
       "    <tr>\n",
       "      <th>1</th>\n",
       "      <td>2020/02/12 9:46:34</td>\n",
       "      <td>62</td>\n",
       "      <td>00:00:01</td>\n",
       "      <td>1.0</td>\n",
       "    </tr>\n",
       "    <tr>\n",
       "      <th>2</th>\n",
       "      <td>2020/02/12 9:46:35</td>\n",
       "      <td>110</td>\n",
       "      <td>00:00:01</td>\n",
       "      <td>1.0</td>\n",
       "    </tr>\n",
       "    <tr>\n",
       "      <th>3</th>\n",
       "      <td>2020/02/12 9:46:36</td>\n",
       "      <td>132</td>\n",
       "      <td>00:00:01</td>\n",
       "      <td>1.0</td>\n",
       "    </tr>\n",
       "    <tr>\n",
       "      <th>4</th>\n",
       "      <td>2020/02/12 9:46:37</td>\n",
       "      <td>132</td>\n",
       "      <td>00:00:01</td>\n",
       "      <td>1.0</td>\n",
       "    </tr>\n",
       "    <tr>\n",
       "      <th>...</th>\n",
       "      <td>...</td>\n",
       "      <td>...</td>\n",
       "      <td>...</td>\n",
       "      <td>...</td>\n",
       "    </tr>\n",
       "    <tr>\n",
       "      <th>20502</th>\n",
       "      <td>2020/02/12 15:43:33</td>\n",
       "      <td>136</td>\n",
       "      <td>00:00:01</td>\n",
       "      <td>1.0</td>\n",
       "    </tr>\n",
       "    <tr>\n",
       "      <th>20503</th>\n",
       "      <td>2020/02/12 15:43:34</td>\n",
       "      <td>136</td>\n",
       "      <td>00:00:01</td>\n",
       "      <td>1.0</td>\n",
       "    </tr>\n",
       "    <tr>\n",
       "      <th>20504</th>\n",
       "      <td>2020/02/12 15:43:35</td>\n",
       "      <td>89</td>\n",
       "      <td>00:00:01</td>\n",
       "      <td>1.0</td>\n",
       "    </tr>\n",
       "    <tr>\n",
       "      <th>20505</th>\n",
       "      <td>2020/02/12 15:43:36</td>\n",
       "      <td>114</td>\n",
       "      <td>00:00:01</td>\n",
       "      <td>1.0</td>\n",
       "    </tr>\n",
       "    <tr>\n",
       "      <th>20506</th>\n",
       "      <td>2020/02/12 15:43:37</td>\n",
       "      <td>134</td>\n",
       "      <td>00:00:01</td>\n",
       "      <td>1.0</td>\n",
       "    </tr>\n",
       "  </tbody>\n",
       "</table>\n",
       "<p>20507 rows × 4 columns</p>\n",
       "</div>"
      ],
      "text/plain": [
       "                      Time  Watts duration  durationseconds\n",
       "0       2020/02/12 9:46:33     62 00:00:01              1.0\n",
       "1       2020/02/12 9:46:34     62 00:00:01              1.0\n",
       "2       2020/02/12 9:46:35    110 00:00:01              1.0\n",
       "3       2020/02/12 9:46:36    132 00:00:01              1.0\n",
       "4       2020/02/12 9:46:37    132 00:00:01              1.0\n",
       "...                    ...    ...      ...              ...\n",
       "20502  2020/02/12 15:43:33    136 00:00:01              1.0\n",
       "20503  2020/02/12 15:43:34    136 00:00:01              1.0\n",
       "20504  2020/02/12 15:43:35     89 00:00:01              1.0\n",
       "20505  2020/02/12 15:43:36    114 00:00:01              1.0\n",
       "20506  2020/02/12 15:43:37    134 00:00:01              1.0\n",
       "\n",
       "[20507 rows x 4 columns]"
      ]
     },
     "metadata": {},
     "output_type": "display_data"
    }
   ],
   "source": [
    "#Create a list of all the wattages measured on the ride if you want to be super granular down to the watt\n",
    "##ws = pd.DataFrame(df.Watts.value_counts().sort_index())\n",
    "##ws.reset_index(inplace=True)\n",
    "##watts = ws.index.to_list()\n",
    "\n",
    "#Alternatively you can also just create a series with the values 0....n where n = df.Watts.max()\n",
    "#and optionally reduce the dataset to 5 or 10 watt intervals\n",
    "\n",
    "#for the purposes of this exercise lets use a reduced set of points\n",
    "watts = [i for i in range (10,501,10)]\n",
    "if watts[0] > 0:\n",
    "    watts.append(0)\n",
    "if (max(watts)<df.Watts.max()):\n",
    "    watts.append(df.Watts.max())\n",
    "watts.sort()\n",
    "\n",
    "\n",
    "#Peek into the uploaded data\n",
    "display(df[['Time','Watts','duration','durationseconds']])\n",
    "\n"
   ]
  },
  {
   "cell_type": "code",
   "execution_count": 5,
   "metadata": {},
   "outputs": [
    {
     "name": "stdout",
     "output_type": "stream",
     "text": [
      "Start at  2020-03-04 20:57:00.750457\n",
      "  End at  2020-03-04 20:57:04.256206 \n",
      "  time taken for a ride of  5.951  hours into  52  power categories =  0:00:03.505749\n"
     ]
    }
   ],
   "source": [
    "#Now collect all the unbroken runs at or over a given wattage\n",
    "#e.g. if i ride for 10 seconds and my watts are 100,105,110,105,110,105,105,120,125,125 \n",
    "# there will be \n",
    "#   1 run of 10 seconds at 100 watts or over\n",
    "#   1 run of 9 seconds at 105 watts or over\n",
    "#   3 runs of 1,1 and 3 seconds at 110 watts or over\n",
    "#   1 run of 3 seconds at 120 watts or over\n",
    "#   1 run of 2 seconds at 125 watts or over\n",
    "\n",
    "start = dt.now()\n",
    "print('Start at ',start)\n",
    "\n",
    "bigseries = pd.DataFrame()\n",
    "\n",
    "# Run through each entry in the \"watts\" series and collect all the runs\n",
    "for index in watts:\n",
    "    df['minwatts'] = index\n",
    "    df['rowqualifies'] = (df.Watts >= df.minwatts) * 1\n",
    "    \n",
    "    #we will use df.previousrowqualifies to figure out whether a new run has started\n",
    "    df['previousrowqualifies'] = df.rowqualifies.shift(periods = 1)\n",
    "    df.loc[df['previousrowqualifies'].isnull(),'previousrowqualifies'] = 0\n",
    "    \n",
    "    #the below is a slightly subversive method to determine individual runs\n",
    "    df['runstart'] = ((df.rowqualifies == 1) & (df.previousrowqualifies == 0)) * 1\n",
    "    df['runid'] = df.runstart.cumsum()*df.rowqualifies\n",
    "    \n",
    "    #calculate the run duration for each run and store in a new dataframe\n",
    "    runs = pd.DataFrame(df[df.runid!=0].groupby(['runid','minwatts']).duration.sum())\n",
    "    #reset the index so that the index become ordinary columns\n",
    "    runs.reset_index(inplace=True)\n",
    "    #add runs for this wattage to the big container\n",
    "    bigseries = bigseries.append(runs)\n",
    "\n",
    "#reset the index so that the index become ordinary columns    \n",
    "bigseries.reset_index(inplace=True)\n",
    "\n",
    "end = dt.now()\n",
    "dur = round(df.durationseconds.sum()/3600.0,3)\n",
    "cats = len(watts)\n",
    "print('  End at ',end,'\\n  time taken for a ride of ',dur,' hours into ',cats,' power categories = ',end-start)"
   ]
  },
  {
   "cell_type": "code",
   "execution_count": 6,
   "metadata": {},
   "outputs": [],
   "source": [
    "#Now that we have a record of every \"run\" at or over a certain wattage, we can collate them all together\n",
    "intervals = bigseries.groupby(['minwatts','duration']).count()\n",
    "intervals.reset_index(inplace=True)\n",
    "\n",
    "#rename some of the columns just to make the code a bit more readable\n",
    "intervals.rename(columns={'runid':'numruns'},inplace=True)\n",
    "intervals['intervalduration']=np.divide(intervals['duration'], np.timedelta64(1, 's'))\n",
    "intervals['totalseconds']=intervals.intervalduration*intervals.numruns\n",
    "intervals['totalminutes']=intervals.totalseconds/60\n"
   ]
  },
  {
   "cell_type": "code",
   "execution_count": 7,
   "metadata": {},
   "outputs": [],
   "source": [
    "#now it becomes quite easy to turn the run data into a powercurve of some sorts\n",
    "#please note this is not the same as a strava powercurve\n",
    "powercurve = pd.DataFrame(intervals.groupby(['minwatts']).totalminutes.sum())\n",
    "powercurve.reset_index(inplace=True)\n",
    "\n",
    "#we can also determine the maximum interval length for a given wattage\n",
    "maxintervals = pd.DataFrame(intervals.groupby(['minwatts']).intervalduration.max())\n",
    "maxintervals.reset_index(inplace=True)"
   ]
  },
  {
   "cell_type": "markdown",
   "metadata": {},
   "source": [
    "# Total time at a given output"
   ]
  },
  {
   "cell_type": "code",
   "execution_count": 8,
   "metadata": {},
   "outputs": [],
   "source": [
    "import matplotlib.pyplot as py"
   ]
  },
  {
   "cell_type": "code",
   "execution_count": 13,
   "metadata": {
    "scrolled": false
   },
   "outputs": [
    {
     "name": "stdout",
     "output_type": "stream",
     "text": [
      "Read this as follows (exmaple):\n",
      "=====================\n",
      "   Total time at an output of  80  watts or higher is 286 minutes\n",
      "   Total time at an output of  420  watts or higher is 132 seconds\n"
     ]
    },
    {
     "data": {
      "image/png": "[encoded data removed]",
      "text/plain": [
       "<Figure size 720x720 with 1 Axes>"
      ]
     },
     "metadata": {
      "needs_background": "light"
     },
     "output_type": "display_data"
    }
   ],
   "source": [
    "print('Read this as follows (exmaple):\\n=====================')\n",
    "\n",
    "row=powercurve.iloc[8]\n",
    "print ('   Total time at an output of ',row.minwatts.astype(int),' watts or higher is',row.totalminutes.astype(int),'minutes')\n",
    "row=powercurve.iloc[len(powercurve)-10]\n",
    "print ('   Total time at an output of ',row.minwatts.astype(int),' watts or higher is',(row.totalminutes*60).astype(int),'seconds')\n",
    "\n",
    "\n",
    "\n",
    "\n",
    "fig = py.figure(figsize = (10,10))\n",
    "ax = fig.add_subplot(111)\n",
    "\n",
    "py.xlabel('minutes')\n",
    "py.ylabel('watts')\n",
    "py.title('Powercurve - total time vs watts')\n",
    "py.plot(powercurve.totalminutes,powercurve.minwatts)\n",
    "\n",
    "py.grid()\n",
    "py.show()\n",
    "\n",
    "#Peek into the powercurve\n",
    "#display (powercurve)"
   ]
  },
  {
   "cell_type": "markdown",
   "metadata": {},
   "source": [
    "# Maxiumum continuous duration at a sustained (or higher) power level"
   ]
  },
  {
   "cell_type": "code",
   "execution_count": 15,
   "metadata": {
    "scrolled": false
   },
   "outputs": [
    {
     "name": "stdout",
     "output_type": "stream",
     "text": [
      "Read this as follows:\n",
      "=====================\n",
      "   Maximum duration at a sustained output of  270  watts or higher is 46 seconds\n",
      "   Maximum duration at a sustained output of  410  watts or higher is 8 seconds\n"
     ]
    },
    {
     "data": {
      "image/png": "[encoded data removed]",
      "text/plain": [
       "<Figure size 720x720 with 1 Axes>"
      ]
     },
     "metadata": {
      "needs_background": "light"
     },
     "output_type": "display_data"
    }
   ],
   "source": [
    "selectedintervals = maxintervals[(maxintervals.minwatts >= 200) & (maxintervals.minwatts <= 500)]\n",
    "\n",
    "\n",
    "print('Read this as follows:\\n=====================')\n",
    "row=selectedintervals.iloc[7]\n",
    "print ('   Maximum duration at a sustained output of ',row.minwatts.astype(int),' watts or higher is',row.intervalduration.astype(int),'seconds')\n",
    "row=selectedintervals.iloc[len(selectedintervals)-10]\n",
    "print ('   Maximum duration at a sustained output of ',row.minwatts.astype(int),' watts or higher is',row.intervalduration.astype(int),'seconds')\n",
    "\n",
    "fig = py.figure(figsize = (10,10))\n",
    "ax = fig.add_subplot(111)\n",
    "\n",
    "\n",
    "py.plot(selectedintervals.minwatts,selectedintervals.intervalduration,'s')\n",
    "py.xlabel('Watts')\n",
    "py.ylabel('Interval length in seconds')\n",
    "py.title('Max sustained interval length')\n",
    "\n",
    "for index,row in selectedintervals.iterrows():\n",
    "    py.text(row.minwatts+2,row.intervalduration+2,row.intervalduration.astype(int),rotation=90,fontSize=9)\n",
    "\n",
    "\n",
    "py.grid()\n",
    "py.show()\n",
    "\n",
    "#with pd.option_context('display.max_rows', None, 'display.max_columns', None): \n",
    "#    display (selectedintervals)"
   ]
  },
  {
   "cell_type": "code",
   "execution_count": null,
   "metadata": {},
   "outputs": [],
   "source": []
  }
 ],
 "metadata": {
  "kernelspec": {
   "display_name": "Python 3",
   "language": "python",
   "name": "python3"
  },
  "language_info": {
   "codemirror_mode": {
    "name": "ipython",
    "version": 3
   },
   "file_extension": ".py",
   "mimetype": "text/x-python",
   "name": "python",
   "nbconvert_exporter": "python",
   "pygments_lexer": "ipython3",
   "version": "3.7.5"
  }
 },
 "nbformat": 4,
 "nbformat_minor": 2
}
