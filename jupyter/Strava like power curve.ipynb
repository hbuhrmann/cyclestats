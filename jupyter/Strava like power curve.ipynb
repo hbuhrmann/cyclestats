{
 "cells": [
  {
   "cell_type": "code",
   "execution_count": 10,
   "metadata": {},
   "outputs": [],
   "source": [
    "import pandas as pd\n",
    "import numpy as np\n",
    "from datetime import datetime as dt\n",
    "import matplotlib.pyplot as py"
   ]
  },
  {
   "cell_type": "code",
   "execution_count": 29,
   "metadata": {},
   "outputs": [
    {
     "name": "stdout",
     "output_type": "stream",
     "text": [
      "Start at  2020-03-04 19:47:48.351160\n",
      "  End at  2020-03-04 19:47:48.374127 \n",
      "  time taken for a ride of  5.951  hours =  0:00:00.022967\n"
     ]
    }
   ],
   "source": [
    "#Read the datafile into a DataFrame\n",
    "#The supplied files are clean, if you have data with nans or null values, you may have to do some extra cleaning up\n",
    "\n",
    "df = pd.read_csv('c:/temp/bigcycledata.csv',dtype={'Watts':np.int,'Cadence':np.int,'HeartRate':np.int},parse_dates=True)\n",
    "#df = pd.read_csv('c:/temp/cycledata.csv',parse_dates=True)\n",
    "\n",
    "start = dt.now()\n",
    "print('Start at ',start)\n",
    "\n",
    "#Change the string datetime to a proper datetime format\n",
    "\n",
    "df['datetime']=pd.to_datetime(df.Time)\n",
    "\n",
    "# Set the elapsed duration between between each subsequent row \n",
    "# this would normally be 1 second, but sometimes it isn't\n",
    "\n",
    "df['duration']=(df.datetime.shift(periods=-1)-df.datetime)\n",
    "\n",
    "# Update NaT values to 0 seconds, as our dataframe is not allowed to contain non numeric values\n",
    "\n",
    "df.loc[df['duration'].isnull(),'duration']=np.timedelta64(1,'s')\n",
    "\n",
    "# Steps to create a powercurve like you will find in strava\n",
    "\n",
    "# Turn the duration into an integer value in seconds\n",
    "df['durationseconds']=np.divide(df['duration'], np.timedelta64(1, 's'))\n",
    "\n",
    "# This value will be used to create a sensible log scale on the powercurve graph\n",
    "logscale = 0.4\n",
    "\n",
    "# Create a dataframe that lists all the instances of all the watts in the data\n",
    "# plus the total time in each instance\n",
    "spc=pd.DataFrame(df.groupby(['Watts']).durationseconds.sum())\n",
    "\n",
    "# Sort by highest watts first\n",
    "spc.reset_index(inplace=True)\n",
    "spc.sort_values(by=['Watts'],ascending = False,inplace=True)\n",
    "\n",
    "# Calculate work (watts x duration) + cumulative work  + cumulative average power\n",
    "spc['work']=spc.Watts*spc.durationseconds\n",
    "spc['cumwork']=spc.work.cumsum()\n",
    "spc['cumduration']=spc.durationseconds.cumsum()\n",
    "spc['averagecumpower']=spc.cumwork/spc.cumduration\n",
    "\n",
    "# Calculate the log value to be used during graphing\n",
    "spc['logcumdur']=spc.cumduration**logscale\n",
    "\n",
    "spc.reset_index(inplace=True)\n",
    "\n",
    "end = dt.now()\n",
    "\n",
    "dur = round(df.durationseconds.sum()/3600.0,3)\n",
    "\n",
    "print('  End at ',end,'\\n  time taken for a ride of ',dur,' hours = ',end-start)\n",
    "\n",
    "#with pd.option_context('display.max_rows', None, 'display.max_columns', None):\n",
    "#   display(spc)"
   ]
  },
  {
   "cell_type": "code",
   "execution_count": 22,
   "metadata": {},
   "outputs": [
    {
     "data": {
      "image/png": "[encoded data removed]",
      "text/plain": [
       "<Figure size 864x432 with 1 Axes>"
      ]
     },
     "metadata": {
      "needs_background": "light"
     },
     "output_type": "display_data"
    }
   ],
   "source": [
    "## Unfortunately the next bit is a bit faffy - this is to enable showing sensible labels on the pyplot graph\n",
    "\n",
    "# Set the xticks at 1s, 15s, 1m, 2m, etc\n",
    "xticks=[1,15,60,300,600,1200,1800,2700,3600,5400,3600*2,3600*3,3600*4,3600*5,3600*6,3600*8,3600*12,3600*18]\n",
    "\n",
    "xlabels=[]\n",
    "xvalues=[]\n",
    "\n",
    "# We need to be able to choose the value in spc that comes closest to the desired tick mark\n",
    "spc['nextlogcumdur']=spc.logcumdur.shift(periods=-1)\n",
    "\n",
    "# Now we can populate the two arrays that will contain the position of the actual tick marks, and their respective labels\n",
    "for i in range(0,len(xticks)):\n",
    "    logvalue = xticks[i]**logscale\n",
    "    try:\n",
    "        #if we want the labels to be anally accurate, use this:\n",
    "        labelvalue = spc.loc[(spc.logcumdur<=logvalue) & (spc.nextlogcumdur>logvalue),'cumduration'].iloc[0]\n",
    "        #if we want the labels to be 'neat' we can use xticks[i] as the labelvalue\n",
    "        labelvalue = xticks[i]\n",
    "        \n",
    "        hourvalue = int(labelvalue/3600)\n",
    "        minutevalue = int((labelvalue-hourvalue*3600)/60)\n",
    "        secondvalue = int(labelvalue-hourvalue*3600-minutevalue*60)\n",
    "        if labelvalue < 60:\n",
    "            labeltext = str(secondvalue)+'s'\n",
    "        elif labelvalue < 3600:\n",
    "            labeltext = str(minutevalue) + 'm ' \n",
    "            if secondvalue != 0:\n",
    "                labeltext += str(secondvalue) + 's'\n",
    "        else:\n",
    "            labeltext = str(hourvalue) + 'h ' \n",
    "            if minutevalue != 0:\n",
    "                labeltext += str(minutevalue) + 'm'\n",
    "        xvalues.append(logvalue)\n",
    "        xlabels.append(labeltext)\n",
    "    except IndexError:\n",
    "        #Means we have reached the max duration of the ride\n",
    "        continue\n",
    "        \n",
    "#display (xlabels,xvalues)\n",
    "\n",
    "# And now we can draw the actual graph\n",
    "py.close()\n",
    "\n",
    "fig = py.figure(figsize = (12,6))\n",
    "ax = fig.add_subplot(111)\n",
    "py.title('Powercurve for a single ride')\n",
    "py.ylabel('Watts')\n",
    "ax.grid()\n",
    "py.ylim(spc.averagecumpower.min()-20,spc.averagecumpower.max()+10)\n",
    "\n",
    "py.plot(spc.logcumdur,spc.averagecumpower)\n",
    "py.xticks(xvalues, xlabels, rotation='vertical')\n",
    "\n",
    "\n",
    "py.show()\n"
   ]
  },
  {
   "cell_type": "code",
   "execution_count": null,
   "metadata": {},
   "outputs": [],
   "source": []
  }
 ],
 "metadata": {
  "kernelspec": {
   "display_name": "Python 3",
   "language": "python",
   "name": "python3"
  },
  "language_info": {
   "codemirror_mode": {
    "name": "ipython",
    "version": 3
   },
   "file_extension": ".py",
   "mimetype": "text/x-python",
   "name": "python",
   "nbconvert_exporter": "python",
   "pygments_lexer": "ipython3",
   "version": "3.7.5"
  }
 },
 "nbformat": 4,
 "nbformat_minor": 2
}
