{
 "cells": [
  {
   "cell_type": "code",
   "execution_count": 1,
   "metadata": {},
   "outputs": [],
   "source": [
    "import numpy as np\n",
    "import pandas as pd"
   ]
  },
  {
   "cell_type": "code",
   "execution_count": null,
   "metadata": {},
   "outputs": [],
   "source": [
    "wspeedkmh = 20\n",
    "\n",
    "wspeedmps  = wspeedkmh/3.6\n",
    "\n",
    "speedlist = np.arange(0, 71, 1)\n",
    "\n",
    "gradientlist = np.arange(-0.2,0.21,0.01)\n",
    "\n",
    "wdirlist = np.arange(0,361,5)\n",
    "\n",
    "pmap = []\n",
    "\n",
    "count = 0\n",
    "for speed in speedlist:\n",
    "    for grad in gradientlist:\n",
    "        for wdir in wdirlist :\n",
    "            count+=1\n",
    "            pmap.append([speed,grad,wdir])\n",
    "            #print(f'{count}, {dir}, {round(grad,2)}, {speed}')\n",
    "\n",
    "powermap = pd.DataFrame(data = pmap,columns = ['Speedkmh','Gradient','Wdirdeg'])   \n",
    "\n",
    "powermap['Speedmps'] = powermap.Speedkmh/3.6\n",
    "powermap['Relwspeedmps'] = np.cos(np.radians(powermap['Wdirdeg']))*wspeedmps+powermap.Speedmps\n"
   ]
  },
  {
   "cell_type": "code",
   "execution_count": null,
   "metadata": {},
   "outputs": [],
   "source": [
    "g = 9.8067\n",
    "weight = 85\n",
    "crr = 0.0025\n",
    "rho = 1.25\n",
    "cd = 0.75\n",
    "fa = 0.6\n",
    "wfudge = 0.35\n",
    "\n",
    "powermap['PRolling'] = g * np.cos(np.arctan(powermap.Gradient)) * weight * crr * powermap.Speedmps\n",
    "powermap['PGravity'] = g * np.sin(np.arctan(powermap.Gradient)) * weight * powermap.Speedmps\n",
    "powermap['PDrag'] = 0.5 * cd * fa * rho * (powermap.Relwspeedmps)** 3 \n",
    "\n",
    "\n"
   ]
  },
  {
   "cell_type": "code",
   "execution_count": null,
   "metadata": {},
   "outputs": [],
   "source": [
    "for index,row in powermap[powermap.Speedkmh == 20].iterrows():\n",
    "    print (row.Speedkmh,round(row.Gradient,2),round(row.Relwspeedmps,2),round(row.PRolling,2),round(row.PGravity,2),round(row.PDrag,2))"
   ]
  },
  {
   "cell_type": "code",
   "execution_count": 2,
   "metadata": {},
   "outputs": [],
   "source": [
    "dtypes = {\n",
    "    'filename' : np.str,\n",
    "    'ridedate' : np.datetime64,\n",
    "    'temperature' : np.float,\n",
    "    'wspeedkph' : np.float,\n",
    "    'wdirdeg' : np.float,\n",
    "    'airpressure' : np.float,\n",
    "    'rho' : np.float,\n",
    "    'bike' : np.str,\n",
    "    'bikeweight' : np.float,\n",
    "    'riderweight' : np.float,\n",
    "    'cd' : np.float,\n",
    "    'fa' : np.float,\n",
    "    'crr' : np.float,\n",
    "    'exfact' : np.float,\n",
    "    'fheadw' : np.float,\n",
    "    'ftailw' : np.float,\n",
    "    'targetwatts' : np.float\n",
    "}\n",
    "\n",
    "df=pd.read_excel(io='C:/Users/hanne/PycharmProjects/CycleStats/BaseData/basedata.xlsx.', \n",
    "                 sheet_name='basedata', \n",
    "                 header=0,\n",
    "                 dtype = dtypes,\n",
    "                 parse_dates = ['ridedate'])"
   ]
  },
  {
   "cell_type": "code",
   "execution_count": 3,
   "metadata": {},
   "outputs": [
    {
     "name": "stdout",
     "output_type": "stream",
     "text": [
      "('filename', 'Routefile_Beachy_Head_to_TN34_via_A259.gpx') <class 'str'>\n",
      "('ridedate', Timestamp('2020-01-28 09:30:25')) <class 'pandas._libs.tslibs.timestamps.Timestamp'>\n",
      "('targetwatts', 200.0) <class 'float'>\n",
      "('temperature', 5.0) <class 'float'>\n",
      "('wspeedkph', 24.0) <class 'float'>\n",
      "('wdirdeg', 100.0) <class 'float'>\n",
      "('airpressure', 1025.0) <class 'float'>\n",
      "('rho', 1.25) <class 'float'>\n",
      "('riderweight', 76.0) <class 'float'>\n",
      "('crr', 0.0025) <class 'float'>\n",
      "('bike', 'enigma') <class 'str'>\n",
      "('bikeweight', 10.0) <class 'float'>\n",
      "('cd', 0.7) <class 'float'>\n",
      "('fa', 0.6) <class 'float'>\n",
      "('exfact', 1.25) <class 'float'>\n",
      "('fheadw', 0.31125) <class 'float'>\n",
      "('ftailw', 0.46125) <class 'float'>\n",
      "filename       Routefile_Beachy_Head_to_TN34_via_A259.gpx\n",
      "ridedate                              2020-01-28 09:30:25\n",
      "targetwatts                                           200\n",
      "temperature                                             5\n",
      "wspeedkph                                              24\n",
      "wdirdeg                                               100\n",
      "airpressure                                          1025\n",
      "rho                                                  1.25\n",
      "riderweight                                            76\n",
      "crr                                                0.0025\n",
      "bike                                               enigma\n",
      "bikeweight                                             10\n",
      "cd                                                    0.7\n",
      "fa                                                    0.6\n",
      "exfact                                               1.25\n",
      "fheadw                                            0.31125\n",
      "ftailw                                            0.46125\n",
      "Name: 0, dtype: object\n",
      "filename       Kinomap_Lake_Biwa_near_Osaka.gpx\n",
      "ridedate                                    NaT\n",
      "targetwatts                                 200\n",
      "temperature                                 NaN\n",
      "wspeedkph                                     0\n",
      "wdirdeg                                       0\n",
      "airpressure                                 NaN\n",
      "rho                                        1.25\n",
      "riderweight                                  76\n",
      "crr                                      0.0025\n",
      "bike                                      wahoo\n",
      "bikeweight                                   10\n",
      "cd                                        0.535\n",
      "fa                                          0.5\n",
      "exfact                                      1.5\n",
      "fheadw                                  0.31125\n",
      "ftailw                                  0.46125\n",
      "Name: 1, dtype: object\n"
     ]
    }
   ],
   "source": [
    "for index,row in df.iterrows():\n",
    "    if index == 0:\n",
    "        for item in row.items():\n",
    "            print(item,type(item[1]))\n",
    "    print(row)"
   ]
  },
  {
   "cell_type": "code",
   "execution_count": null,
   "metadata": {},
   "outputs": [],
   "source": []
  }
 ],
 "metadata": {
  "kernelspec": {
   "display_name": "Python 3",
   "language": "python",
   "name": "python3"
  },
  "language_info": {
   "codemirror_mode": {
    "name": "ipython",
    "version": 3
   },
   "file_extension": ".py",
   "mimetype": "text/x-python",
   "name": "python",
   "nbconvert_exporter": "python",
   "pygments_lexer": "ipython3",
   "version": "3.7.5"
  }
 },
 "nbformat": 4,
 "nbformat_minor": 2
}
