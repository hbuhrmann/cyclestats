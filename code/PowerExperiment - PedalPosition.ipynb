{
 "cells": [
  {
   "cell_type": "code",
   "execution_count": 1,
   "metadata": {},
   "outputs": [],
   "source": [
    "import sys\n",
    "\n",
    "sys.path\n",
    "\n",
    "sys.path.append(\"/Users/hbuhrmann/PycharmProjects/CycleStats\")"
   ]
  },
  {
   "cell_type": "code",
   "execution_count": 2,
   "metadata": {},
   "outputs": [],
   "source": [
    "import sourcetocsv as cycle\n",
    "import numpy as np\n",
    "import thinkstats2\n",
    "import thinkplot"
   ]
  },
  {
   "cell_type": "code",
   "execution_count": 3,
   "metadata": {},
   "outputs": [],
   "source": [
    "#filepath = 'C:/Users/hanne/PycharmProjects/CycleStats/PowerOutputExperiments/FinalFiles/'\n",
    "filepath = '/users/hbuhrmann/PycharmProjects/CycleStats/PowerOutputExperiments/FinalFiles/'\n",
    "\n",
    "filename= 'AllFields.csv'\n",
    "\n",
    "cycledf=cycle.getfinalcsvcycledata(filepath,filename)"
   ]
  },
  {
   "cell_type": "code",
   "execution_count": 4,
   "metadata": {},
   "outputs": [
    {
     "data": {
      "image/png": "[encoded data removed]",
      "text/plain": [
       "<Figure size 432x288 with 1 Axes>"
      ]
     },
     "metadata": {
      "needs_background": "light"
     },
     "output_type": "display_data"
    },
    {
     "name": "stdout",
     "output_type": "stream",
     "text": [
      "0 974 974\n",
      "1 985 1959\n",
      "2 994 2953\n",
      "3 995 3948\n",
      "4 985 4933\n",
      "5 972 5905\n"
     ]
    },
    {
     "data": {
      "text/plain": [
       "<Figure size 576x432 with 0 Axes>"
      ]
     },
     "metadata": {},
     "output_type": "display_data"
    }
   ],
   "source": [
    "#Explore the relationnship between power and pedal position\n",
    "'''\n",
    "Determine the pedal position as follows :\n",
    "\n",
    "Assume the pedal starts in position 0 (which we won't know where exactly this is)\n",
    "\n",
    "The relative pedal position for the next datapoint can basically be calculated as the modulus of the total number of pedal\n",
    "revolutions since the start of the session. \n",
    "\n",
    "'''\n",
    "intervals = 6\n",
    "\n",
    "cycledf['Revolutions']=cycledf.Cadence/60.0*cycledf.Duration/1000.0\n",
    "cycledf['PedalPos']=np.int32(np.mod(cycledf.Revolutions.cumsum(),1)*intervals)\n",
    "\n",
    "#cycledf.loc[cycledf['PedalPos'] >= 100] = 0\n",
    "\n",
    "pedalposhist = thinkstats2.Hist(cycledf.PedalPos)\n",
    "\n",
    "#Create a scatterplot of power vs. pedal position\n",
    "\n",
    "\n",
    "tempdf=cycledf[cycledf.Watts > 0]\n",
    "\n",
    "\n",
    "thinkplot.Scatter(xs=tempdf.PedalPos,ys=tempdf.Watts,alpha=0.1)\n",
    "thinkplot.Show()\n",
    "   \n",
    "sum = 0    \n",
    "for val,count in pedalposhist.SortedItems():\n",
    "    sum+=count\n",
    "    print (val,count,sum)\n",
    "    "
   ]
  },
  {
   "cell_type": "code",
   "execution_count": 5,
   "metadata": {},
   "outputs": [
    {
     "data": {
      "text/html": [
       "<div>\n",
       "<style scoped>\n",
       "    .dataframe tbody tr th:only-of-type {\n",
       "        vertical-align: middle;\n",
       "    }\n",
       "\n",
       "    .dataframe tbody tr th {\n",
       "        vertical-align: top;\n",
       "    }\n",
       "\n",
       "    .dataframe thead th {\n",
       "        text-align: right;\n",
       "    }\n",
       "</style>\n",
       "<table border=\"1\" class=\"dataframe\">\n",
       "  <thead>\n",
       "    <tr style=\"text-align: right;\">\n",
       "      <th></th>\n",
       "      <th>Unnamed: 0</th>\n",
       "      <th>RowId</th>\n",
       "      <th>ActivityId</th>\n",
       "      <th>Time</th>\n",
       "      <th>LatitudeDegrees</th>\n",
       "      <th>LongitudeDegrees</th>\n",
       "      <th>DistanceMeters</th>\n",
       "      <th>AltitudeMeters</th>\n",
       "      <th>Heartrate</th>\n",
       "      <th>Cadence</th>\n",
       "      <th>...</th>\n",
       "      <th>RunEnd2</th>\n",
       "      <th>RunDistXY2</th>\n",
       "      <th>RunDistXYZ2</th>\n",
       "      <th>RunElevation2</th>\n",
       "      <th>RunAvgGradient2</th>\n",
       "      <th>RunDur2</th>\n",
       "      <th>RunAvgSpeed2</th>\n",
       "      <th>RunAvgCadence2</th>\n",
       "      <th>Revolutions</th>\n",
       "      <th>PedalPos</th>\n",
       "    </tr>\n",
       "  </thead>\n",
       "  <tbody>\n",
       "    <tr>\n",
       "      <th>0</th>\n",
       "      <td>0</td>\n",
       "      <td>1</td>\n",
       "      <td>_20200101095923</td>\n",
       "      <td>2020-01-01 09:59:23</td>\n",
       "      <td>41.989384</td>\n",
       "      <td>2.243389</td>\n",
       "      <td>NaN</td>\n",
       "      <td>426.0</td>\n",
       "      <td>88.0</td>\n",
       "      <td>79.0</td>\n",
       "      <td>...</td>\n",
       "      <td>True</td>\n",
       "      <td>NaN</td>\n",
       "      <td>NaN</td>\n",
       "      <td>NaN</td>\n",
       "      <td>NaN</td>\n",
       "      <td>NaN</td>\n",
       "      <td>NaN</td>\n",
       "      <td>NaN</td>\n",
       "      <td>0.000000</td>\n",
       "      <td>0</td>\n",
       "    </tr>\n",
       "    <tr>\n",
       "      <th>1</th>\n",
       "      <td>1</td>\n",
       "      <td>2</td>\n",
       "      <td>_20200101095923</td>\n",
       "      <td>2020-01-01 09:59:24</td>\n",
       "      <td>41.989384</td>\n",
       "      <td>2.243389</td>\n",
       "      <td>NaN</td>\n",
       "      <td>426.0</td>\n",
       "      <td>92.0</td>\n",
       "      <td>80.0</td>\n",
       "      <td>...</td>\n",
       "      <td>False</td>\n",
       "      <td>NaN</td>\n",
       "      <td>NaN</td>\n",
       "      <td>NaN</td>\n",
       "      <td>NaN</td>\n",
       "      <td>NaN</td>\n",
       "      <td>NaN</td>\n",
       "      <td>NaN</td>\n",
       "      <td>1.333333</td>\n",
       "      <td>1</td>\n",
       "    </tr>\n",
       "    <tr>\n",
       "      <th>2</th>\n",
       "      <td>2</td>\n",
       "      <td>3</td>\n",
       "      <td>_20200101095923</td>\n",
       "      <td>2020-01-01 09:59:25</td>\n",
       "      <td>41.989384</td>\n",
       "      <td>2.243389</td>\n",
       "      <td>NaN</td>\n",
       "      <td>426.0</td>\n",
       "      <td>94.0</td>\n",
       "      <td>80.0</td>\n",
       "      <td>...</td>\n",
       "      <td>False</td>\n",
       "      <td>0.000000</td>\n",
       "      <td>0.000000</td>\n",
       "      <td>0.0</td>\n",
       "      <td>NaN</td>\n",
       "      <td>2000.0</td>\n",
       "      <td>0.000000</td>\n",
       "      <td>80.0</td>\n",
       "      <td>1.333333</td>\n",
       "      <td>3</td>\n",
       "    </tr>\n",
       "    <tr>\n",
       "      <th>3</th>\n",
       "      <td>3</td>\n",
       "      <td>4</td>\n",
       "      <td>_20200101095923</td>\n",
       "      <td>2020-01-01 09:59:26</td>\n",
       "      <td>41.989469</td>\n",
       "      <td>2.243405</td>\n",
       "      <td>NaN</td>\n",
       "      <td>426.0</td>\n",
       "      <td>95.0</td>\n",
       "      <td>78.0</td>\n",
       "      <td>...</td>\n",
       "      <td>False</td>\n",
       "      <td>NaN</td>\n",
       "      <td>NaN</td>\n",
       "      <td>NaN</td>\n",
       "      <td>NaN</td>\n",
       "      <td>NaN</td>\n",
       "      <td>NaN</td>\n",
       "      <td>NaN</td>\n",
       "      <td>1.300000</td>\n",
       "      <td>5</td>\n",
       "    </tr>\n",
       "    <tr>\n",
       "      <th>4</th>\n",
       "      <td>4</td>\n",
       "      <td>5</td>\n",
       "      <td>_20200101095923</td>\n",
       "      <td>2020-01-01 09:59:27</td>\n",
       "      <td>41.989469</td>\n",
       "      <td>2.243405</td>\n",
       "      <td>NaN</td>\n",
       "      <td>426.0</td>\n",
       "      <td>96.0</td>\n",
       "      <td>74.0</td>\n",
       "      <td>...</td>\n",
       "      <td>False</td>\n",
       "      <td>9.543713</td>\n",
       "      <td>9.543713</td>\n",
       "      <td>0.0</td>\n",
       "      <td>0.0</td>\n",
       "      <td>4000.0</td>\n",
       "      <td>2.385928</td>\n",
       "      <td>78.0</td>\n",
       "      <td>1.233333</td>\n",
       "      <td>1</td>\n",
       "    </tr>\n",
       "  </tbody>\n",
       "</table>\n",
       "<p>5 rows × 51 columns</p>\n",
       "</div>"
      ],
      "text/plain": [
       "   Unnamed: 0  RowId       ActivityId                 Time  LatitudeDegrees  \\\n",
       "0           0      1  _20200101095923  2020-01-01 09:59:23        41.989384   \n",
       "1           1      2  _20200101095923  2020-01-01 09:59:24        41.989384   \n",
       "2           2      3  _20200101095923  2020-01-01 09:59:25        41.989384   \n",
       "3           3      4  _20200101095923  2020-01-01 09:59:26        41.989469   \n",
       "4           4      5  _20200101095923  2020-01-01 09:59:27        41.989469   \n",
       "\n",
       "   LongitudeDegrees  DistanceMeters  AltitudeMeters  Heartrate  Cadence  ...  \\\n",
       "0          2.243389             NaN           426.0       88.0     79.0  ...   \n",
       "1          2.243389             NaN           426.0       92.0     80.0  ...   \n",
       "2          2.243389             NaN           426.0       94.0     80.0  ...   \n",
       "3          2.243405             NaN           426.0       95.0     78.0  ...   \n",
       "4          2.243405             NaN           426.0       96.0     74.0  ...   \n",
       "\n",
       "   RunEnd2  RunDistXY2 RunDistXYZ2  RunElevation2  RunAvgGradient2  RunDur2  \\\n",
       "0     True         NaN         NaN            NaN              NaN      NaN   \n",
       "1    False         NaN         NaN            NaN              NaN      NaN   \n",
       "2    False    0.000000    0.000000            0.0              NaN   2000.0   \n",
       "3    False         NaN         NaN            NaN              NaN      NaN   \n",
       "4    False    9.543713    9.543713            0.0              0.0   4000.0   \n",
       "\n",
       "   RunAvgSpeed2  RunAvgCadence2  Revolutions  PedalPos  \n",
       "0           NaN             NaN     0.000000         0  \n",
       "1           NaN             NaN     1.333333         1  \n",
       "2      0.000000            80.0     1.333333         3  \n",
       "3           NaN             NaN     1.300000         5  \n",
       "4      2.385928            78.0     1.233333         1  \n",
       "\n",
       "[5 rows x 51 columns]"
      ]
     },
     "execution_count": 5,
     "metadata": {},
     "output_type": "execute_result"
    }
   ],
   "source": [
    "cycledf.head()"
   ]
  },
  {
   "cell_type": "code",
   "execution_count": 6,
   "metadata": {},
   "outputs": [
    {
     "name": "stdout",
     "output_type": "stream",
     "text": [
      "position = 0, num values = 204, standard deviation = 44.94744261405485 (18.0% of 244)\n",
      "position = 1, num values = 211, standard deviation = 45.78992144426926 (19.0% of 243)\n",
      "position = 2, num values = 209, standard deviation = 45.70780510255537 (19.0% of 245)\n",
      "position = 3, num values = 194, standard deviation = 42.52143716254453 (18.0% of 241)\n",
      "position = 4, num values = 203, standard deviation = 43.41321352013715 (18.0% of 245)\n",
      "position = 5, num values = 207, standard deviation = 44.701770624497996 (18.0% of 243)\n",
      "[209.0, 207.0, 210.0, 207.0, 211.0, 208.0]\n",
      "[242.0, 242.0, 243.0, 240.0, 244.0, 242.0]\n",
      "[287.0, 286.0, 286.0, 281.0, 286.0, 287.0]\n"
     ]
    },
    {
     "data": {
      "image/png": "[encoded data removed]",
      "text/plain": [
       "<Figure size 432x288 with 1 Axes>"
      ]
     },
     "metadata": {
      "needs_background": "light"
     },
     "output_type": "display_data"
    },
    {
     "data": {
      "text/plain": [
       "<Figure size 576x432 with 0 Axes>"
      ]
     },
     "metadata": {},
     "output_type": "display_data"
    }
   ],
   "source": [
    "#Create CDF's and determine percentiles for each pedal position\n",
    "import pandas as pd\n",
    "\n",
    "pedalposcdfs = []\n",
    "pedalpospmfs = []\n",
    "percs = [15,50,85]\n",
    "xvalues = []\n",
    "\n",
    "for i in range (0,intervals):\n",
    "    xvalues.append(i)\n",
    "    pedalposcdfs.append(thinkstats2.Cdf(tempdf.Watts[tempdf.PedalPos == i]))\n",
    "    pedalpospmfs.append(thinkstats2.Pmf(tempdf.Watts[tempdf.PedalPos == i]))\n",
    "    print (f'position = {i}, num values = {len(pedalposcdfs[i])}, standard deviation = {pedalpospmfs[i].Std()} ({round(pedalpospmfs[i].Std()/pedalpospmfs[i].Mean(),2)*100}% of {np.int32(pedalpospmfs[i].Mean())})')\n",
    "\n",
    "\n",
    "for perc in percs:\n",
    "    watts = [cdf.Percentile(perc) for cdf in pedalposcdfs]\n",
    "    label = '%dth' % perc\n",
    "    thinkplot.Plot(xvalues,watts,label=label)\n",
    "    print (watts)\n",
    "\n",
    "thinkplot.Config(ylim=(200,300))\n",
    "thinkplot.Show()"
   ]
  },
  {
   "cell_type": "markdown",
   "metadata": {},
   "source": [
    "# CONCLUSION\n",
    "\n",
    "The data in the Wahoo Kickr files does not give any meaningful data around pedal positioning and power\n",
    "\n",
    "The only reason why I thought it might is because the instantenous power measurement is so incredibly varied from one second to the next. "
   ]
  },
  {
   "cell_type": "code",
   "execution_count": null,
   "metadata": {},
   "outputs": [],
   "source": []
  }
 ],
 "metadata": {
  "kernelspec": {
   "display_name": "Python 3",
   "language": "python",
   "name": "python3"
  },
  "language_info": {
   "codemirror_mode": {
    "name": "ipython",
    "version": 3
   },
   "file_extension": ".py",
   "mimetype": "text/x-python",
   "name": "python",
   "nbconvert_exporter": "python",
   "pygments_lexer": "ipython3",
   "version": "3.7.5"
  }
 },
 "nbformat": 4,
 "nbformat_minor": 2
}
