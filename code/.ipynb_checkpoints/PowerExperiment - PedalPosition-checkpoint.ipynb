{
 "cells": [
  {
   "cell_type": "code",
   "execution_count": 1,
   "metadata": {},
   "outputs": [],
   "source": [
    "import sys\n",
    "sys.path.append(\"C:/Users/hanne/PycharmProjects/CycleStats\")"
   ]
  },
  {
   "cell_type": "code",
   "execution_count": 2,
   "metadata": {},
   "outputs": [
    {
     "ename": "ModuleNotFoundError",
     "evalue": "No module named 'fitparse'",
     "output_type": "error",
     "traceback": [
      "\u001b[0;31m---------------------------------------------------------------------------\u001b[0m",
      "\u001b[0;31mModuleNotFoundError\u001b[0m                       Traceback (most recent call last)",
      "\u001b[0;32m<ipython-input-2-23d3bfb7a590>\u001b[0m in \u001b[0;36m<module>\u001b[0;34m\u001b[0m\n\u001b[0;32m----> 1\u001b[0;31m \u001b[0;32mimport\u001b[0m \u001b[0msourcetocsv\u001b[0m \u001b[0;32mas\u001b[0m \u001b[0mcycle\u001b[0m\u001b[0;34m\u001b[0m\u001b[0;34m\u001b[0m\u001b[0m\n\u001b[0m\u001b[1;32m      2\u001b[0m \u001b[0;32mimport\u001b[0m \u001b[0mnumpy\u001b[0m \u001b[0;32mas\u001b[0m \u001b[0mnp\u001b[0m\u001b[0;34m\u001b[0m\u001b[0;34m\u001b[0m\u001b[0m\n\u001b[1;32m      3\u001b[0m \u001b[0;32mimport\u001b[0m \u001b[0mthinkstats2\u001b[0m\u001b[0;34m\u001b[0m\u001b[0;34m\u001b[0m\u001b[0m\n\u001b[1;32m      4\u001b[0m \u001b[0;32mimport\u001b[0m \u001b[0mthinkplot\u001b[0m\u001b[0;34m\u001b[0m\u001b[0;34m\u001b[0m\u001b[0m\n",
      "\u001b[0;32m~/PycharmProjects/CycleStats/code/sourcetocsv/__init__.py\u001b[0m in \u001b[0;36m<module>\u001b[0;34m\u001b[0m\n\u001b[1;32m      1\u001b[0m \u001b[0;32mimport\u001b[0m \u001b[0mcsv\u001b[0m\u001b[0;34m\u001b[0m\u001b[0;34m\u001b[0m\u001b[0m\n\u001b[1;32m      2\u001b[0m \u001b[0;32mimport\u001b[0m \u001b[0mos\u001b[0m\u001b[0;34m\u001b[0m\u001b[0;34m\u001b[0m\u001b[0m\n\u001b[0;32m----> 3\u001b[0;31m \u001b[0;32mimport\u001b[0m \u001b[0mfitparse\u001b[0m\u001b[0;34m\u001b[0m\u001b[0;34m\u001b[0m\u001b[0m\n\u001b[0m\u001b[1;32m      4\u001b[0m \u001b[0;32mimport\u001b[0m \u001b[0mpytz\u001b[0m\u001b[0;34m\u001b[0m\u001b[0;34m\u001b[0m\u001b[0m\n\u001b[1;32m      5\u001b[0m \u001b[0;32mimport\u001b[0m \u001b[0mre\u001b[0m\u001b[0;34m\u001b[0m\u001b[0;34m\u001b[0m\u001b[0m\n",
      "\u001b[0;31mModuleNotFoundError\u001b[0m: No module named 'fitparse'"
     ]
    }
   ],
   "source": [
    "import sourcetocsv as cycle\n",
    "import numpy as np\n",
    "import thinkstats2\n",
    "import thinkplot"
   ]
  },
  {
   "cell_type": "code",
   "execution_count": null,
   "metadata": {},
   "outputs": [],
   "source": [
    "filepath = 'C:/Users/hanne/PycharmProjects/CycleStats/PowerOutputExperiments/FinalFiles/'\n",
    "filename= 'AllFields.csv'\n",
    "\n",
    "cycledf=cycle.getfinalcsvcycledata(filepath,filename)"
   ]
  },
  {
   "cell_type": "code",
   "execution_count": null,
   "metadata": {},
   "outputs": [],
   "source": [
    "#Explore the relationnship between power and pedal position\n",
    "'''\n",
    "Determine the pedal position as follows :\n",
    "\n",
    "Assume the pedal starts in position 0 (which we won't know where exactly this is)\n",
    "\n",
    "The relative pedal position for the next datapoint can basically be calculated as the modulus of the total number of pedal\n",
    "revolutions since the start of the session. \n",
    "\n",
    "'''\n",
    "intervals = 6\n",
    "\n",
    "cycledf['Revolutions']=cycledf.Cadence/60.0*cycledf.Duration/1000.0\n",
    "cycledf['PedalPos']=np.int32(np.mod(cycledf.Revolutions.cumsum(),1)*intervals)\n",
    "\n",
    "#cycledf.loc[cycledf['PedalPos'] >= 100] = 0\n",
    "\n",
    "pedalposhist = thinkstats2.Hist(cycledf.PedalPos)\n",
    "\n",
    "#Create a scatterplot of power vs. pedal position\n",
    "\n",
    "\n",
    "tempdf=cycledf[cycledf.Watts > 0]\n",
    "\n",
    "\n",
    "thinkplot.Scatter(xs=tempdf.PedalPos,ys=tempdf.Watts,alpha=0.1)\n",
    "thinkplot.Show()\n",
    "   \n",
    "sum = 0    \n",
    "for val,count in pedalposhist.SortedItems():\n",
    "    sum+=count\n",
    "    print (val,count,sum)\n",
    "    "
   ]
  },
  {
   "cell_type": "code",
   "execution_count": null,
   "metadata": {},
   "outputs": [],
   "source": [
    "cycledf.head()"
   ]
  },
  {
   "cell_type": "code",
   "execution_count": null,
   "metadata": {},
   "outputs": [],
   "source": [
    "#Create CDF's and determine percentiles for each pedal position\n",
    "import pandas as pd\n",
    "\n",
    "pedalposcdfs = []\n",
    "pedalpospmfs = []\n",
    "percs = [15,50,85]\n",
    "xvalues = []\n",
    "\n",
    "for i in range (0,intervals):\n",
    "    xvalues.append(i)\n",
    "    pedalposcdfs.append(thinkstats2.Cdf(tempdf.Watts[tempdf.PedalPos == i]))\n",
    "    pedalpospmfs.append(thinkstats2.Pmf(tempdf.Watts[tempdf.PedalPos == i]))\n",
    "    print (f'position = {i}, num values = {len(pedalposcdfs[i])}, standard deviation = {pedalpospmfs[i].Std()} ({round(pedalpospmfs[i].Std()/pedalpospmfs[i].Mean(),2)*100}% of {np.int32(pedalpospmfs[i].Mean())})')\n",
    "\n",
    "\n",
    "for perc in percs:\n",
    "    watts = [cdf.Percentile(perc) for cdf in pedalposcdfs]\n",
    "    label = '%dth' % perc\n",
    "    thinkplot.Plot(xvalues,watts,label=label)\n",
    "    print (watts)\n",
    "\n",
    "thinkplot.Config(ylim=(200,300))\n",
    "thinkplot.Show()"
   ]
  },
  {
   "cell_type": "markdown",
   "metadata": {},
   "source": [
    "# CONCLUSION\n",
    "\n",
    "The data in the Wahoo Kickr files does not give any meaningful data around pedal positioning and power\n",
    "\n",
    "The only reason why I thought it might is because the instantenous power measurement is so incredibly varied from one second to the next. "
   ]
  },
  {
   "cell_type": "code",
   "execution_count": null,
   "metadata": {},
   "outputs": [],
   "source": []
  }
 ],
 "metadata": {
  "kernelspec": {
   "display_name": "Python 3",
   "language": "python",
   "name": "python3"
  },
  "language_info": {
   "codemirror_mode": {
    "name": "ipython",
    "version": 3
   },
   "file_extension": ".py",
   "mimetype": "text/x-python",
   "name": "python",
   "nbconvert_exporter": "python",
   "pygments_lexer": "ipython3",
   "version": "3.7.5"
  }
 },
 "nbformat": 4,
 "nbformat_minor": 2
}
