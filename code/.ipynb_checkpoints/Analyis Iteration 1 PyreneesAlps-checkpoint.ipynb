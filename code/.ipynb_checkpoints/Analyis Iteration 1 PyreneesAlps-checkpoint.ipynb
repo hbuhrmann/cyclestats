{
 "cells": [
  {
   "cell_type": "code",
   "execution_count": 1,
   "metadata": {},
   "outputs": [],
   "source": [
    "import sourcetocsv as cycle"
   ]
  },
  {
   "cell_type": "code",
   "execution_count": 2,
   "metadata": {},
   "outputs": [
    {
     "name": "stdout",
     "output_type": "stream",
     "text": [
      "FIT :  C:\\Users\\hanne\\PycharmProjects\\CycleStats\\TestData\\138312387.fit     -      C:\\Users\\hanne\\PycharmProjects\\CycleStats\\TestResults\\_fit138312387.csv\n",
      "FIT :  C:\\Users\\hanne\\PycharmProjects\\CycleStats\\TestData\\143279646.fit     -      C:\\Users\\hanne\\PycharmProjects\\CycleStats\\TestResults\\_fit143279646.csv\n",
      "FIT :  C:\\Users\\hanne\\PycharmProjects\\CycleStats\\TestData\\143279671.fit     -      C:\\Users\\hanne\\PycharmProjects\\CycleStats\\TestResults\\_fit143279671.csv\n",
      "FIT :  C:\\Users\\hanne\\PycharmProjects\\CycleStats\\TestData\\144688348.fit     -      C:\\Users\\hanne\\PycharmProjects\\CycleStats\\TestResults\\_fit144688348.csv\n",
      "FIT :  C:\\Users\\hanne\\PycharmProjects\\CycleStats\\TestData\\144688357.fit     -      C:\\Users\\hanne\\PycharmProjects\\CycleStats\\TestResults\\_fit144688357.csv\n",
      "FIT :  C:\\Users\\hanne\\PycharmProjects\\CycleStats\\TestData\\147446123.fit     -      C:\\Users\\hanne\\PycharmProjects\\CycleStats\\TestResults\\_fit147446123.csv\n",
      "FIT :  C:\\Users\\hanne\\PycharmProjects\\CycleStats\\TestData\\150699569.fit     -      C:\\Users\\hanne\\PycharmProjects\\CycleStats\\TestResults\\_fit150699569.csv\n",
      "FIT :  C:\\Users\\hanne\\PycharmProjects\\CycleStats\\TestData\\154421622.fit     -      C:\\Users\\hanne\\PycharmProjects\\CycleStats\\TestResults\\_fit154421622.csv\n",
      "FIT :  C:\\Users\\hanne\\PycharmProjects\\CycleStats\\TestData\\154421631.fit     -      C:\\Users\\hanne\\PycharmProjects\\CycleStats\\TestResults\\_fit154421631.csv\n",
      "FIT :  C:\\Users\\hanne\\PycharmProjects\\CycleStats\\TestData\\154421638.fit     -      C:\\Users\\hanne\\PycharmProjects\\CycleStats\\TestResults\\_fit154421638.csv\n",
      "FIT :  C:\\Users\\hanne\\PycharmProjects\\CycleStats\\TestData\\155981298.fit     -      C:\\Users\\hanne\\PycharmProjects\\CycleStats\\TestResults\\_fit155981298.csv\n",
      "FIT :  C:\\Users\\hanne\\PycharmProjects\\CycleStats\\TestData\\155981315.fit     -      C:\\Users\\hanne\\PycharmProjects\\CycleStats\\TestResults\\_fit155981315.csv\n",
      "FIT :  C:\\Users\\hanne\\PycharmProjects\\CycleStats\\TestData\\155981330.fit     -      C:\\Users\\hanne\\PycharmProjects\\CycleStats\\TestResults\\_fit155981330.csv\n",
      "TCX :  C:\\Users\\hanne\\PycharmProjects\\CycleStats\\TestResults\\\\_tcx2902306723.tcx     -      C:\\Users\\hanne\\PycharmProjects\\CycleStats\\TestResults\\\\_tcx2902306723.csv\n",
      "TCX :  C:\\Users\\hanne\\PycharmProjects\\CycleStats\\TestResults\\\\_tcx2902306730.tcx     -      C:\\Users\\hanne\\PycharmProjects\\CycleStats\\TestResults\\\\_tcx2902306730.csv\n",
      "TCX :  C:\\Users\\hanne\\PycharmProjects\\CycleStats\\TestResults\\\\_tcx2902306740.tcx     -      C:\\Users\\hanne\\PycharmProjects\\CycleStats\\TestResults\\\\_tcx2902306740.csv\n",
      "TCX :  C:\\Users\\hanne\\PycharmProjects\\CycleStats\\TestResults\\\\_tcx2902322269.tcx     -      C:\\Users\\hanne\\PycharmProjects\\CycleStats\\TestResults\\\\_tcx2902322269.csv\n",
      "TCX :  C:\\Users\\hanne\\PycharmProjects\\CycleStats\\TestResults\\\\_tcx2902322278.tcx     -      C:\\Users\\hanne\\PycharmProjects\\CycleStats\\TestResults\\\\_tcx2902322278.csv\n",
      "TCX :  C:\\Users\\hanne\\PycharmProjects\\CycleStats\\TestResults\\\\_tcx2902322282.tcx     -      C:\\Users\\hanne\\PycharmProjects\\CycleStats\\TestResults\\\\_tcx2902322282.csv\n",
      "TCX :  C:\\Users\\hanne\\PycharmProjects\\CycleStats\\TestResults\\\\_tcx2902333934.tcx     -      C:\\Users\\hanne\\PycharmProjects\\CycleStats\\TestResults\\\\_tcx2902333934.csv\n",
      "TCX :  C:\\Users\\hanne\\PycharmProjects\\CycleStats\\TestResults\\\\_tcx2925386188.tcx     -      C:\\Users\\hanne\\PycharmProjects\\CycleStats\\TestResults\\\\_tcx2925386188.csv\n",
      "TCX :  C:\\Users\\hanne\\PycharmProjects\\CycleStats\\TestResults\\\\_tcx2926794516.tcx     -      C:\\Users\\hanne\\PycharmProjects\\CycleStats\\TestResults\\\\_tcx2926794516.csv\n",
      "TCX :  C:\\Users\\hanne\\PycharmProjects\\CycleStats\\TestResults\\\\_tcx2929470674.tcx     -      C:\\Users\\hanne\\PycharmProjects\\CycleStats\\TestResults\\\\_tcx2929470674.csv\n",
      "TCX :  C:\\Users\\hanne\\PycharmProjects\\CycleStats\\TestResults\\\\_tcx2998590272.tcx     -      C:\\Users\\hanne\\PycharmProjects\\CycleStats\\TestResults\\\\_tcx2998590272.csv\n",
      "TCX :  C:\\Users\\hanne\\PycharmProjects\\CycleStats\\TestResults\\\\_tcx2998591603.tcx     -      C:\\Users\\hanne\\PycharmProjects\\CycleStats\\TestResults\\\\_tcx2998591603.csv\n",
      "TCX :  C:\\Users\\hanne\\PycharmProjects\\CycleStats\\TestResults\\\\_tcx2998592090.tcx     -      C:\\Users\\hanne\\PycharmProjects\\CycleStats\\TestResults\\\\_tcx2998592090.csv\n",
      "TCX :  C:\\Users\\hanne\\PycharmProjects\\CycleStats\\TestResults\\\\_tcx2998592450.tcx     -      C:\\Users\\hanne\\PycharmProjects\\CycleStats\\TestResults\\\\_tcx2998592450.csv\n",
      "TCX :  C:\\Users\\hanne\\PycharmProjects\\CycleStats\\TestResults\\\\_tcx3004765402.tcx     -      C:\\Users\\hanne\\PycharmProjects\\CycleStats\\TestResults\\\\_tcx3004765402.csv\n",
      "TCX :  C:\\Users\\hanne\\PycharmProjects\\CycleStats\\TestResults\\\\_tcx3008138080.tcx     -      C:\\Users\\hanne\\PycharmProjects\\CycleStats\\TestResults\\\\_tcx3008138080.csv\n",
      "TCX :  C:\\Users\\hanne\\PycharmProjects\\CycleStats\\TestResults\\\\_tcx3085286614.tcx     -      C:\\Users\\hanne\\PycharmProjects\\CycleStats\\TestResults\\\\_tcx3085286614.csv\n",
      "TCX :  C:\\Users\\hanne\\PycharmProjects\\CycleStats\\TestResults\\\\_tcx3086975305.tcx     -      C:\\Users\\hanne\\PycharmProjects\\CycleStats\\TestResults\\\\_tcx3086975305.csv\n",
      "GPX :  C:\\Users\\hanne\\PycharmProjects\\CycleStats\\TestData\\Afternoon_Ride (1).gpx     -      C:\\Users\\hanne\\PycharmProjects\\CycleStats\\TestResults\\\\_gpxAfternoon_Ride (1).csv\n",
      "GPX :  C:\\Users\\hanne\\PycharmProjects\\CycleStats\\TestData\\Afternoon_Ride.gpx     -      C:\\Users\\hanne\\PycharmProjects\\CycleStats\\TestResults\\\\_gpxAfternoon_Ride.csv\n",
      "GPX :  C:\\Users\\hanne\\PycharmProjects\\CycleStats\\TestData\\Data_Experiment (1).gpx     -      C:\\Users\\hanne\\PycharmProjects\\CycleStats\\TestResults\\\\_gpxData_Experiment (1).csv\n",
      "GPX :  C:\\Users\\hanne\\PycharmProjects\\CycleStats\\TestData\\Data_Experiment (2).gpx     -      C:\\Users\\hanne\\PycharmProjects\\CycleStats\\TestResults\\\\_gpxData_Experiment (2).csv\n",
      "GPX :  C:\\Users\\hanne\\PycharmProjects\\CycleStats\\TestData\\Data_Experiment (3).gpx     -      C:\\Users\\hanne\\PycharmProjects\\CycleStats\\TestResults\\\\_gpxData_Experiment (3).csv\n",
      "GPX :  C:\\Users\\hanne\\PycharmProjects\\CycleStats\\TestData\\Data_Experiment (4).gpx     -      C:\\Users\\hanne\\PycharmProjects\\CycleStats\\TestResults\\\\_gpxData_Experiment (4).csv\n",
      "GPX :  C:\\Users\\hanne\\PycharmProjects\\CycleStats\\TestData\\Data_Experiment (5).gpx     -      C:\\Users\\hanne\\PycharmProjects\\CycleStats\\TestResults\\\\_gpxData_Experiment (5).csv\n",
      "GPX :  C:\\Users\\hanne\\PycharmProjects\\CycleStats\\TestData\\Data_Experiment (6).gpx     -      C:\\Users\\hanne\\PycharmProjects\\CycleStats\\TestResults\\\\_gpxData_Experiment (6).csv\n",
      "GPX :  C:\\Users\\hanne\\PycharmProjects\\CycleStats\\TestData\\Data_Experiment.gpx     -      C:\\Users\\hanne\\PycharmProjects\\CycleStats\\TestResults\\\\_gpxData_Experiment.csv\n",
      "GPX :  C:\\Users\\hanne\\PycharmProjects\\CycleStats\\TestData\\Kinomap_Home_Maitlands_Home.gpx     -      C:\\Users\\hanne\\PycharmProjects\\CycleStats\\TestResults\\\\_gpxKinomap_Home_Maitlands_Home.csv\n",
      "GPX :  C:\\Users\\hanne\\PycharmProjects\\CycleStats\\TestData\\Kinomap_Mount_Lemmon_Climb_to_Rose_Canyon_Rd.gpx     -      C:\\Users\\hanne\\PycharmProjects\\CycleStats\\TestResults\\\\_gpxKinomap_Mount_Lemmon_Climb_to_Rose_Canyon_Rd.csv\n",
      "GPX :  C:\\Users\\hanne\\PycharmProjects\\CycleStats\\TestData\\Kinomap_Ride_on_the_Golden_gate_bridge_back_to_SF.gpx     -      C:\\Users\\hanne\\PycharmProjects\\CycleStats\\TestResults\\\\_gpxKinomap_Ride_on_the_Golden_gate_bridge_back_to_SF.csv\n",
      "GPX :  C:\\Users\\hanne\\PycharmProjects\\CycleStats\\TestData\\Lunch_Ride (1).gpx     -      C:\\Users\\hanne\\PycharmProjects\\CycleStats\\TestResults\\\\_gpxLunch_Ride (1).csv\n",
      "GPX :  C:\\Users\\hanne\\PycharmProjects\\CycleStats\\TestData\\Lunch_Ride.gpx     -      C:\\Users\\hanne\\PycharmProjects\\CycleStats\\TestResults\\\\_gpxLunch_Ride.csv\n",
      "GPX :  C:\\Users\\hanne\\PycharmProjects\\CycleStats\\TestData\\Windy_Morning_Ride.gpx     -      C:\\Users\\hanne\\PycharmProjects\\CycleStats\\TestResults\\\\_gpxWindy_Morning_Ride.csv\n"
     ]
    }
   ],
   "source": [
    "####################################################################################\n",
    "# TAKE ALL THE GPX,TCX and FIT source files and convert them to individual CSV files\n",
    "#####################################################################################\n",
    "\n",
    "inputpath = 'C:\\\\Users\\\\hanne\\\\PycharmProjects\\\\CycleStats\\\\TestData'\n",
    "outputpath = 'C:\\\\Users\\\\hanne\\\\PycharmProjects\\\\CycleStats\\\\TestResults'\n",
    "\n",
    "cycle.convertgeofilesbatch(inputpath, outputpath)\n"
   ]
  },
  {
   "cell_type": "code",
   "execution_count": 4,
   "metadata": {},
   "outputs": [
    {
     "name": "stdout",
     "output_type": "stream",
     "text": [
      "8954 rows, total rows :  8954 .           File added :  _fit138312387.csv\n",
      "7775 rows, total rows :  16729 .           File added :  _fit143279646.csv\n",
      "3621 rows, total rows :  20350 .           File added :  _fit143279671.csv\n",
      "6474 rows, total rows :  26824 .           File added :  _fit144688348.csv\n",
      "2258 rows, total rows :  29082 .           File added :  _fit144688357.csv\n",
      "10767 rows, total rows :  39849 .           File added :  _fit147446123.csv\n",
      "5574 rows, total rows :  45423 .           File added :  _fit150699569.csv\n",
      "12423 rows, total rows :  57846 .           File added :  _fit154421622.csv\n"
     ]
    },
    {
     "name": "stderr",
     "output_type": "stream",
     "text": [
      "C:\\Users\\hanne\\Anaconda3\\lib\\site-packages\\pandas\\core\\series.py:856: RuntimeWarning: invalid value encountered in arccos\n",
      "  result = getattr(ufunc, method)(*inputs, **kwargs)\n"
     ]
    },
    {
     "name": "stdout",
     "output_type": "stream",
     "text": [
      "251 rows, total rows :  58097 .           File added :  _fit154421631.csv\n",
      "531 rows, total rows :  58628 .           File added :  _fit154421638.csv\n",
      "2239 rows, total rows :  60867 .           File added :  _fit155981298.csv\n",
      "2362 rows, total rows :  63229 .           File added :  _fit155981315.csv\n",
      "1381 rows, total rows :  64610 .           File added :  _fit155981330.csv\n",
      "10845 rows, total rows :  75455 .           File added : "
     ]
    },
    {
     "name": "stderr",
     "output_type": "stream",
     "text": [
      "C:\\Users\\hanne\\Anaconda3\\lib\\site-packages\\pandas\\core\\frame.py:7138: FutureWarning: Sorting because non-concatenation axis is not aligned. A future version\n",
      "of pandas will change to not sort by default.\n",
      "\n",
      "To accept the future behavior, pass 'sort=False'.\n",
      "\n",
      "To retain the current behavior and silence the warning, pass 'sort=True'.\n",
      "\n",
      "  sort=sort,\n"
     ]
    },
    {
     "name": "stdout",
     "output_type": "stream",
     "text": [
      " _tcx2902306723.csv\n",
      "16566 rows, total rows :  92021 .           File added :  _tcx2902306730.csv\n",
      "13742 rows, total rows :  105763 .           File added :  _tcx2902306740.csv\n",
      "14753 rows, total rows :  120516 .           File added :  _tcx2902322269.csv\n",
      "17283 rows, total rows :  137799 .           File added :  _tcx2902322278.csv\n",
      "14091 rows, total rows :  151890 .           File added :  _tcx2902322282.csv\n",
      "16039 rows, total rows :  167929 .           File added :  _tcx2902333934.csv\n",
      "1799 rows, total rows :  169728 .           File added :  _tcx2925386188.csv\n",
      "3471 rows, total rows :  173199 .           File added :  _tcx2926794516.csv\n",
      "3169 rows, total rows :  176368 .           File added :  _tcx2929470674.csv\n",
      "2680 rows, total rows :  179048 .           File added :  _tcx2998590272.csv\n",
      "2859 rows, total rows :  181907 .           File added :  _tcx2998591603.csv\n",
      "3819 rows, total rows :  185726 .           File added :  _tcx2998592090.csv\n",
      "2933 rows, total rows :  188659 .           File added :  _tcx2998592450.csv\n",
      "5523 rows, total rows :  194182 .           File added :  _tcx3004765402.csv\n",
      "2217 rows, total rows :  196399 .           File added :  _tcx3008138080.csv\n",
      "4627 rows, total rows :  201026 .           File added :  _tcx3085286614.csv\n",
      "4231 rows, total rows :  205257 .           File added :  _tcx3086975305.csv\n",
      "1170 rows, total rows :  206427 .           File added :  _gpxAfternoon_Ride (1).csv\n",
      "1622 rows, total rows :  208049 .           File added :  _gpxAfternoon_Ride.csv\n",
      "346 rows, total rows :  208395 .           File added :  _gpxData_Experiment (1).csv\n",
      "343 rows, total rows :  208738 .           File added :  _gpxData_Experiment (2).csv\n",
      "327 rows, total rows :  209065 .           File added :  _gpxData_Experiment (3).csv\n",
      "316 rows, total rows :  209381 .           File added :  _gpxData_Experiment (4).csv\n",
      "318 rows, total rows :  209699 .           File added :  _gpxData_Experiment (5).csv\n",
      "326 rows, total rows :  210025 .           File added :  _gpxData_Experiment (6).csv\n",
      "367 rows, total rows :  210392 .           File added :  _gpxData_Experiment.csv\n",
      "4999 rows, total rows :  215391 .           File added :  _gpxKinomap_Home_Maitlands_Home.csv\n",
      "5903 rows, total rows :  221294 .           File added :  _gpxKinomap_Mount_Lemmon_Climb_to_Rose_Canyon_Rd.csv\n",
      "1296 rows, total rows :  222590 .           File added :  _gpxKinomap_Ride_on_the_Golden_gate_bridge_back_to_SF.csv\n",
      "2079 rows, total rows :  224669 .           File added :  _gpxLunch_Ride (1).csv\n",
      "1713 rows, total rows :  226382 .           File added :  _gpxLunch_Ride.csv\n",
      "3354 rows, total rows :  229736 .           File added :  _gpxWindy_Morning_Ride.csv\n"
     ]
    }
   ],
   "source": [
    "pathname = 'file:///C:/users/hanne/PycharmProjects/CycleStats/TestResults/'\n",
    "filelist = [\n",
    "'_fit138312387.csv',\n",
    "'_fit143279646.csv',\n",
    "'_fit143279671.csv',\n",
    "'_fit144688348.csv',\n",
    "'_fit144688357.csv',\n",
    "'_fit147446123.csv',\n",
    "'_fit150699569.csv',\n",
    "'_fit154421622.csv',\n",
    "'_fit154421631.csv',\n",
    "'_fit154421638.csv',\n",
    "'_fit155981298.csv',\n",
    "'_fit155981315.csv',\n",
    "'_fit155981330.csv',\n",
    "'_tcx2902306723.csv',\n",
    "'_tcx2902306730.csv',\n",
    "'_tcx2902306740.csv',\n",
    "'_tcx2902322269.csv',\n",
    "'_tcx2902322278.csv',\n",
    "'_tcx2902322282.csv',\n",
    "'_tcx2902333934.csv',\n",
    "'_tcx2925386188.csv',\n",
    "'_tcx2926794516.csv',\n",
    "'_tcx2929470674.csv',\n",
    "'_tcx2998590272.csv',\n",
    "'_tcx2998591603.csv',\n",
    "'_tcx2998592090.csv',\n",
    "'_tcx2998592450.csv',\n",
    "'_tcx3004765402.csv',\n",
    "'_tcx3008138080.csv',\n",
    "'_tcx3085286614.csv',\n",
    "'_tcx3086975305.csv',\n",
    "'_gpxAfternoon_Ride (1).csv',\n",
    "'_gpxAfternoon_Ride.csv',\n",
    "'_gpxData_Experiment (1).csv',\n",
    "'_gpxData_Experiment (2).csv',\n",
    "'_gpxData_Experiment (3).csv',\n",
    "'_gpxData_Experiment (4).csv',\n",
    "'_gpxData_Experiment (5).csv',\n",
    "'_gpxData_Experiment (6).csv',\n",
    "'_gpxData_Experiment.csv',\n",
    "'_gpxKinomap_Home_Maitlands_Home.csv',\n",
    "'_gpxKinomap_Mount_Lemmon_Climb_to_Rose_Canyon_Rd.csv',\n",
    "'_gpxKinomap_Ride_on_the_Golden_gate_bridge_back_to_SF.csv',\n",
    "'_gpxLunch_Ride (1).csv',\n",
    "'_gpxLunch_Ride.csv',\n",
    "'_gpxWindy_Morning_Ride.csv',\n",
    "]\n",
    "\n",
    "cycledf = cycle.readcyclecsv(pathname,filelist)\n",
    "\n",
    "cycledf.to_csv('c:/temp/temp.csv')\n"
   ]
  },
  {
   "cell_type": "code",
   "execution_count": 4,
   "metadata": {},
   "outputs": [],
   "source": [
    "\n",
    "filepath='c:/temp/'\n",
    "filename='temp.csv'\n",
    "\n",
    "cycledf=cycle.getfinalcsvcycledata(filepath,filename)\n"
   ]
  },
  {
   "cell_type": "code",
   "execution_count": 5,
   "metadata": {},
   "outputs": [],
   "source": [
    "import thinkstats2\n",
    "import thinkplot\n",
    "import numpy as np"
   ]
  },
  {
   "cell_type": "code",
   "execution_count": 6,
   "metadata": {
    "scrolled": true
   },
   "outputs": [
    {
     "data": {
      "text/html": [
       "<div>\n",
       "<style scoped>\n",
       "    .dataframe tbody tr th:only-of-type {\n",
       "        vertical-align: middle;\n",
       "    }\n",
       "\n",
       "    .dataframe tbody tr th {\n",
       "        vertical-align: top;\n",
       "    }\n",
       "\n",
       "    .dataframe thead th {\n",
       "        text-align: right;\n",
       "    }\n",
       "</style>\n",
       "<table border=\"1\" class=\"dataframe\">\n",
       "  <thead>\n",
       "    <tr style=\"text-align: right;\">\n",
       "      <th></th>\n",
       "      <th>Unnamed: 0</th>\n",
       "      <th>ActivityId</th>\n",
       "      <th>AltitudeMeters</th>\n",
       "      <th>Cadence</th>\n",
       "      <th>DistXY</th>\n",
       "      <th>DistXYZ</th>\n",
       "      <th>DistanceMeters</th>\n",
       "      <th>Duration</th>\n",
       "      <th>ElapasedDuration</th>\n",
       "      <th>Elevation</th>\n",
       "      <th>...</th>\n",
       "      <th>Heartrate</th>\n",
       "      <th>LatitudeDegrees</th>\n",
       "      <th>LongitudeDegrees</th>\n",
       "      <th>RowId</th>\n",
       "      <th>Speed</th>\n",
       "      <th>Speedmps</th>\n",
       "      <th>Time</th>\n",
       "      <th>VerticalClimb</th>\n",
       "      <th>VerticalFall</th>\n",
       "      <th>Watts</th>\n",
       "    </tr>\n",
       "  </thead>\n",
       "  <tbody>\n",
       "    <tr>\n",
       "      <th>229731</th>\n",
       "      <td>229731</td>\n",
       "      <td>_20191208105213</td>\n",
       "      <td>124.8</td>\n",
       "      <td>0.0</td>\n",
       "      <td>4.602159</td>\n",
       "      <td>4.606503</td>\n",
       "      <td>NaN</td>\n",
       "      <td>1000.0</td>\n",
       "      <td>10008000.0</td>\n",
       "      <td>0.2</td>\n",
       "      <td>...</td>\n",
       "      <td>147</td>\n",
       "      <td>50.862078</td>\n",
       "      <td>0.591752</td>\n",
       "      <td>20191208105213_0003350</td>\n",
       "      <td>NaN</td>\n",
       "      <td>4.606503</td>\n",
       "      <td>2019-12-08 13:39:01</td>\n",
       "      <td>0.2</td>\n",
       "      <td>0.0</td>\n",
       "      <td>NaN</td>\n",
       "    </tr>\n",
       "    <tr>\n",
       "      <th>229732</th>\n",
       "      <td>229732</td>\n",
       "      <td>_20191208105213</td>\n",
       "      <td>124.8</td>\n",
       "      <td>60.0</td>\n",
       "      <td>29.081519</td>\n",
       "      <td>29.081519</td>\n",
       "      <td>NaN</td>\n",
       "      <td>6000.0</td>\n",
       "      <td>10014000.0</td>\n",
       "      <td>0.0</td>\n",
       "      <td>...</td>\n",
       "      <td>147</td>\n",
       "      <td>50.862157</td>\n",
       "      <td>0.591357</td>\n",
       "      <td>20191208105213_0003351</td>\n",
       "      <td>NaN</td>\n",
       "      <td>4.846920</td>\n",
       "      <td>2019-12-08 13:39:07</td>\n",
       "      <td>0.0</td>\n",
       "      <td>0.0</td>\n",
       "      <td>NaN</td>\n",
       "    </tr>\n",
       "    <tr>\n",
       "      <th>229733</th>\n",
       "      <td>229733</td>\n",
       "      <td>_20191208105213</td>\n",
       "      <td>126.2</td>\n",
       "      <td>56.0</td>\n",
       "      <td>12.623896</td>\n",
       "      <td>12.701289</td>\n",
       "      <td>NaN</td>\n",
       "      <td>3000.0</td>\n",
       "      <td>10017000.0</td>\n",
       "      <td>1.4</td>\n",
       "      <td>...</td>\n",
       "      <td>148</td>\n",
       "      <td>50.862205</td>\n",
       "      <td>0.591194</td>\n",
       "      <td>20191208105213_0003352</td>\n",
       "      <td>NaN</td>\n",
       "      <td>4.233763</td>\n",
       "      <td>2019-12-08 13:39:10</td>\n",
       "      <td>1.4</td>\n",
       "      <td>0.0</td>\n",
       "      <td>NaN</td>\n",
       "    </tr>\n",
       "    <tr>\n",
       "      <th>229734</th>\n",
       "      <td>229734</td>\n",
       "      <td>_20191208105213</td>\n",
       "      <td>127.0</td>\n",
       "      <td>56.0</td>\n",
       "      <td>5.841414</td>\n",
       "      <td>5.895941</td>\n",
       "      <td>NaN</td>\n",
       "      <td>2000.0</td>\n",
       "      <td>10019000.0</td>\n",
       "      <td>0.8</td>\n",
       "      <td>...</td>\n",
       "      <td>149</td>\n",
       "      <td>50.862237</td>\n",
       "      <td>0.591128</td>\n",
       "      <td>20191208105213_0003353</td>\n",
       "      <td>NaN</td>\n",
       "      <td>2.947971</td>\n",
       "      <td>2019-12-08 13:39:12</td>\n",
       "      <td>0.8</td>\n",
       "      <td>0.0</td>\n",
       "      <td>NaN</td>\n",
       "    </tr>\n",
       "    <tr>\n",
       "      <th>229735</th>\n",
       "      <td>229735</td>\n",
       "      <td>_20191208105213</td>\n",
       "      <td>125.8</td>\n",
       "      <td>0.0</td>\n",
       "      <td>4.546994</td>\n",
       "      <td>4.702676</td>\n",
       "      <td>NaN</td>\n",
       "      <td>4000.0</td>\n",
       "      <td>10023000.0</td>\n",
       "      <td>-1.2</td>\n",
       "      <td>...</td>\n",
       "      <td>148</td>\n",
       "      <td>50.862271</td>\n",
       "      <td>0.591092</td>\n",
       "      <td>20191208105213_0003354</td>\n",
       "      <td>NaN</td>\n",
       "      <td>1.175669</td>\n",
       "      <td>2019-12-08 13:39:16</td>\n",
       "      <td>0.0</td>\n",
       "      <td>-1.2</td>\n",
       "      <td>NaN</td>\n",
       "    </tr>\n",
       "  </tbody>\n",
       "</table>\n",
       "<p>5 rows × 25 columns</p>\n",
       "</div>"
      ],
      "text/plain": [
       "        Unnamed: 0       ActivityId  AltitudeMeters  Cadence     DistXY  \\\n",
       "229731      229731  _20191208105213           124.8      0.0   4.602159   \n",
       "229732      229732  _20191208105213           124.8     60.0  29.081519   \n",
       "229733      229733  _20191208105213           126.2     56.0  12.623896   \n",
       "229734      229734  _20191208105213           127.0     56.0   5.841414   \n",
       "229735      229735  _20191208105213           125.8      0.0   4.546994   \n",
       "\n",
       "          DistXYZ  DistanceMeters  Duration  ElapasedDuration  Elevation  ...  \\\n",
       "229731   4.606503             NaN    1000.0        10008000.0        0.2  ...   \n",
       "229732  29.081519             NaN    6000.0        10014000.0        0.0  ...   \n",
       "229733  12.701289             NaN    3000.0        10017000.0        1.4  ...   \n",
       "229734   5.895941             NaN    2000.0        10019000.0        0.8  ...   \n",
       "229735   4.702676             NaN    4000.0        10023000.0       -1.2  ...   \n",
       "\n",
       "        Heartrate  LatitudeDegrees LongitudeDegrees                   RowId  \\\n",
       "229731        147        50.862078         0.591752  20191208105213_0003350   \n",
       "229732        147        50.862157         0.591357  20191208105213_0003351   \n",
       "229733        148        50.862205         0.591194  20191208105213_0003352   \n",
       "229734        149        50.862237         0.591128  20191208105213_0003353   \n",
       "229735        148        50.862271         0.591092  20191208105213_0003354   \n",
       "\n",
       "        Speed  Speedmps                 Time  VerticalClimb VerticalFall  \\\n",
       "229731    NaN  4.606503  2019-12-08 13:39:01            0.2          0.0   \n",
       "229732    NaN  4.846920  2019-12-08 13:39:07            0.0          0.0   \n",
       "229733    NaN  4.233763  2019-12-08 13:39:10            1.4          0.0   \n",
       "229734    NaN  2.947971  2019-12-08 13:39:12            0.8          0.0   \n",
       "229735    NaN  1.175669  2019-12-08 13:39:16            0.0         -1.2   \n",
       "\n",
       "        Watts  \n",
       "229731    NaN  \n",
       "229732    NaN  \n",
       "229733    NaN  \n",
       "229734    NaN  \n",
       "229735    NaN  \n",
       "\n",
       "[5 rows x 25 columns]"
      ]
     },
     "execution_count": 6,
     "metadata": {},
     "output_type": "execute_result"
    }
   ],
   "source": [
    "cycledf.tail()"
   ]
  },
  {
   "cell_type": "markdown",
   "metadata": {},
   "source": [
    "# Probability Mass Functions for level, downhill and uphill"
   ]
  },
  {
   "cell_type": "code",
   "execution_count": 46,
   "metadata": {},
   "outputs": [
    {
     "data": {
      "image/png": "[encoded data removed]",
      "text/plain": [
       "<Figure size 432x288 with 1 Axes>"
      ]
     },
     "metadata": {
      "needs_background": "light"
     },
     "output_type": "display_data"
    },
    {
     "name": "stdout",
     "output_type": "stream",
     "text": [
      "Level:      Mean: 6.884,  Median: 6.9     Std: 2.727\n",
      "Uphill:     Mean: 5.265,  Median: 5.0     Std: 2.343 \n",
      "Downhill:   Mean: 9.273,  Median: 9.0     Std: 3.223 \n"
     ]
    },
    {
     "data": {
      "text/plain": [
       "<Figure size 576x432 with 0 Axes>"
      ]
     },
     "metadata": {},
     "output_type": "display_data"
    }
   ],
   "source": [
    "uphillpmf=thinkstats2.Pmf(np.round(  cycledf['Speedmps'][cycledf['Speedmps']>0][cycledf['Speedmps']<20][cycledf['VerticalClimb']>0],1))\n",
    "levelpmf=thinkstats2.Pmf(np.round(   cycledf['Speedmps'][cycledf['Speedmps']>0][cycledf['Speedmps']<20][cycledf['Gradient']==100],1))\n",
    "downhillpmf=thinkstats2.Pmf(np.round(cycledf['Speedmps'][cycledf['Speedmps']>0][cycledf['Speedmps']<20][cycledf['VerticalFall']<0],1))\n",
    "\n",
    "thinkplot.Pmf(levelpmf,label='Level')\n",
    "thinkplot.Pmf(uphillpmf,label='Uphill')\n",
    "thinkplot.Pmf(downhillpmf,label='Downhill')\n",
    "thinkplot.Config(xlim=[0,20])\n",
    "thinkplot.show()\n",
    "\n",
    "print(f'Level:      Mean: {round(levelpmf.Mean(),3)},  Median: {round(levelpmf.Median(),3)}     Std: {round(levelpmf.Std(),3)}' )\n",
    "print(f'Uphill:     Mean: {round(uphillpmf.Mean(),3)},  Median: {round(uphillpmf.Median(),3)}     Std: {round(uphillpmf.Std(),3)} ' )\n",
    "print(f'Downhill:   Mean: {round(downhillpmf.Mean(),3)},  Median: {round(downhillpmf.Median(),3)}     Std: {round(downhillpmf.Std(),3)} ' )\n",
    "\n"
   ]
  },
  {
   "cell_type": "markdown",
   "metadata": {},
   "source": [
    "# Continuous Distribution Function : Level, Uphill, Downhill"
   ]
  },
  {
   "cell_type": "code",
   "execution_count": 45,
   "metadata": {},
   "outputs": [
    {
     "data": {
      "image/png": "[encoded data removed]",
      "text/plain": [
       "<Figure size 432x288 with 1 Axes>"
      ]
     },
     "metadata": {
      "needs_background": "light"
     },
     "output_type": "display_data"
    },
    {
     "name": "stdout",
     "output_type": "stream",
     "text": [
      "Level:      5th Perc: 2.7      Median: 6.9   95th Perc: 11.5\n",
      "Uphill:     5th Perc: 2.3      Median: 5.0   95th Perc: 8.8\n",
      "Downhill:     5th Perc: 4.0      Median: 9.0   95th Perc: 14.9\n"
     ]
    },
    {
     "data": {
      "text/plain": [
       "<Figure size 576x432 with 0 Axes>"
      ]
     },
     "metadata": {},
     "output_type": "display_data"
    }
   ],
   "source": [
    "uphillcdf=thinkstats2.Cdf(np.round(  cycledf['Speedmps'][cycledf['Speedmps']>0][cycledf['Speedmps']<20][cycledf['VerticalClimb']>0],1))\n",
    "levelcdf=thinkstats2.Cdf(np.round(   cycledf['Speedmps'][cycledf['Speedmps']>0][cycledf['Speedmps']<20][cycledf['Gradient']==100],1))\n",
    "downhillcdf=thinkstats2.Cdf(np.round(cycledf['Speedmps'][cycledf['Speedmps']>0][cycledf['Speedmps']<20][cycledf['VerticalFall']<0],1))\n",
    "\n",
    "\n",
    "\n",
    "thinkplot.Cdf(levelcdf,label='Level')\n",
    "thinkplot.Cdf(uphillcdf,label='Uphill')\n",
    "thinkplot.Cdf(downhillcdf,label='Downhill')\n",
    "thinkplot.Config(xlim=[0,20])\n",
    "thinkplot.show()\n",
    "\n",
    "print(f'Level:      5th Perc: {levelcdf.Percentile(5)}      Median: {levelcdf.Percentile(50)}   95th Perc: {levelcdf.Percentile(95)}' )\n",
    "print(f'Uphill:     5th Perc: {uphillcdf.Percentile(5)}      Median: {uphillcdf.Percentile(50)}   95th Perc: {uphillcdf.Percentile(95)}' )\n",
    "print(f'Downhill:     5th Perc: {downhillcdf.Percentile(5)}      Median: {downhillcdf.Percentile(50)}   95th Perc: {downhillcdf.Percentile(95)}' )\n",
    "\n"
   ]
  },
  {
   "cell_type": "markdown",
   "metadata": {},
   "source": [
    "# Now lets focus on uphills between 4% and 6%\n",
    "\n",
    "Try and answer question : Is there a correllation between speed and cadence?"
   ]
  },
  {
   "cell_type": "code",
   "execution_count": 88,
   "metadata": {},
   "outputs": [
    {
     "name": "stderr",
     "output_type": "stream",
     "text": [
      "C:\\Users\\hanne\\Anaconda3\\lib\\site-packages\\ipykernel_launcher.py:1: UserWarning: Boolean Series key will be reindexed to match DataFrame index.\n",
      "  \"\"\"Entry point for launching an IPython kernel.\n"
     ]
    },
    {
     "name": "stdout",
     "output_type": "stream",
     "text": [
      "Level:      5th Perc: 3.05      Median: 6.03   95th Perc: 6.27\n",
      "Samplesize = 1222\n"
     ]
    },
    {
     "data": {
      "image/png": "[encoded data removed]",
      "text/plain": [
       "<Figure size 432x288 with 1 Axes>"
      ]
     },
     "metadata": {
      "needs_background": "light"
     },
     "output_type": "display_data"
    },
    {
     "data": {
      "image/png": "[encoded data removed]",
      "text/plain": [
       "<Figure size 576x432 with 1 Axes>"
      ]
     },
     "metadata": {
      "needs_background": "light"
     },
     "output_type": "display_data"
    },
    {
     "data": {
      "text/plain": [
       "<Figure size 576x432 with 0 Axes>"
      ]
     },
     "metadata": {},
     "output_type": "display_data"
    }
   ],
   "source": [
    "workdf1 = cycledf[cycledf['Speedmps']>=0][cycledf['Speedmps']<=10][cycledf['Gradient']>=108][cycledf['Gradient']<=109][cycledf['VerticalClimb']>0]\n",
    "workdf = workdf1['Speedmps']\n",
    "\n",
    "\n",
    "print(f'Level:      5th Perc: {Up4to6cdf.Percentile(5)}      Median: {Up4to6cdf.Percentile(50)}   95th Perc: {Up4to6cdf.Percentile(95)}' )\n",
    "print(f'Samplesize = {len(workdf)}')\n",
    "\n",
    "Up4to6hist=thinkstats2.Hist(np.round(workdf,2))\n",
    "\n",
    "thinkplot.Hist(Up4to6hist,label = 'Uphill 4 to 6%')\n",
    "thinkplot.Config(title='Histogram')\n",
    "thinkplot.show()\n",
    "\n",
    "\n",
    "\n",
    "Up4to6cdf=thinkstats2.Cdf(np.round(workdf,2))\n",
    "\n",
    "thinkplot.Cdf(Up4to6cdf,label='Uphill 4 to 6 %')\n",
    "thinkplot.Config(title='CDF')\n",
    "thinkplot.show()\n"
   ]
  },
  {
   "cell_type": "code",
   "execution_count": null,
   "metadata": {},
   "outputs": [],
   "source": []
  },
  {
   "cell_type": "code",
   "execution_count": null,
   "metadata": {},
   "outputs": [],
   "source": []
  }
 ],
 "metadata": {
  "kernelspec": {
   "display_name": "Python 3",
   "language": "python",
   "name": "python3"
  },
  "language_info": {
   "codemirror_mode": {
    "name": "ipython",
    "version": 3
   },
   "file_extension": ".py",
   "mimetype": "text/x-python",
   "name": "python",
   "nbconvert_exporter": "python",
   "pygments_lexer": "ipython3",
   "version": "3.7.5"
  }
 },
 "nbformat": 4,
 "nbformat_minor": 2
}
