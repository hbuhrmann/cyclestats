{
 "cells": [
  {
   "cell_type": "markdown",
   "metadata": {},
   "source": [
    "# Analysis of 2019 Pyrenees and Alps - please remember there is no cadence data in this dataset because you did not have a cadence meter on your bicycle"
   ]
  },
  {
   "cell_type": "code",
   "execution_count": 1,
   "metadata": {},
   "outputs": [],
   "source": [
    "import sourcetocsv as cycle"
   ]
  },
  {
   "cell_type": "code",
   "execution_count": 2,
   "metadata": {},
   "outputs": [],
   "source": [
    "\n",
    "filepath='c:/temp/'\n",
    "filename='pyralpsenigma.csv'\n",
    "\n",
    "cycledf=cycle.getfinalcsvcycledata(filepath,filename)\n"
   ]
  },
  {
   "cell_type": "code",
   "execution_count": 3,
   "metadata": {},
   "outputs": [],
   "source": [
    "import thinkstats2\n",
    "import thinkplot\n",
    "import numpy as np"
   ]
  },
  {
   "cell_type": "code",
   "execution_count": 4,
   "metadata": {
    "scrolled": true
   },
   "outputs": [
    {
     "data": {
      "text/html": [
       "<div>\n",
       "<style scoped>\n",
       "    .dataframe tbody tr th:only-of-type {\n",
       "        vertical-align: middle;\n",
       "    }\n",
       "\n",
       "    .dataframe tbody tr th {\n",
       "        vertical-align: top;\n",
       "    }\n",
       "\n",
       "    .dataframe thead th {\n",
       "        text-align: right;\n",
       "    }\n",
       "</style>\n",
       "<table border=\"1\" class=\"dataframe\">\n",
       "  <thead>\n",
       "    <tr style=\"text-align: right;\">\n",
       "      <th></th>\n",
       "      <th>Unnamed: 0</th>\n",
       "      <th>ActivityId</th>\n",
       "      <th>AltitudeMeters</th>\n",
       "      <th>Cadence</th>\n",
       "      <th>DistXY</th>\n",
       "      <th>DistXYZ</th>\n",
       "      <th>DistanceMeters</th>\n",
       "      <th>Duration</th>\n",
       "      <th>ElapasedDuration</th>\n",
       "      <th>Elevation</th>\n",
       "      <th>...</th>\n",
       "      <th>Heartrate</th>\n",
       "      <th>LatitudeDegrees</th>\n",
       "      <th>LongitudeDegrees</th>\n",
       "      <th>RowId</th>\n",
       "      <th>Speed</th>\n",
       "      <th>Speedmps</th>\n",
       "      <th>Time</th>\n",
       "      <th>VerticalClimb</th>\n",
       "      <th>VerticalFall</th>\n",
       "      <th>Watts</th>\n",
       "    </tr>\n",
       "  </thead>\n",
       "  <tbody>\n",
       "    <tr>\n",
       "      <th>200925</th>\n",
       "      <td>200925</td>\n",
       "      <td>_20190914045509</td>\n",
       "      <td>62.227963</td>\n",
       "      <td>NaN</td>\n",
       "      <td>1.690275</td>\n",
       "      <td>1.690573</td>\n",
       "      <td>NaN</td>\n",
       "      <td>1000.0</td>\n",
       "      <td>33457000.0</td>\n",
       "      <td>0.031738</td>\n",
       "      <td>...</td>\n",
       "      <td>NaN</td>\n",
       "      <td>44.106184</td>\n",
       "      <td>9.817067</td>\n",
       "      <td>20190914045509_0013613</td>\n",
       "      <td>NaN</td>\n",
       "      <td>1.690573</td>\n",
       "      <td>2019-09-14 14:12:46</td>\n",
       "      <td>0.031738</td>\n",
       "      <td>0.0</td>\n",
       "      <td>NaN</td>\n",
       "    </tr>\n",
       "    <tr>\n",
       "      <th>200926</th>\n",
       "      <td>200926</td>\n",
       "      <td>_20190914045509</td>\n",
       "      <td>62.259641</td>\n",
       "      <td>NaN</td>\n",
       "      <td>4.177153</td>\n",
       "      <td>4.177273</td>\n",
       "      <td>NaN</td>\n",
       "      <td>3000.0</td>\n",
       "      <td>33460000.0</td>\n",
       "      <td>0.031677</td>\n",
       "      <td>...</td>\n",
       "      <td>NaN</td>\n",
       "      <td>44.106166</td>\n",
       "      <td>9.817113</td>\n",
       "      <td>20190914045509_0013614</td>\n",
       "      <td>NaN</td>\n",
       "      <td>1.392424</td>\n",
       "      <td>2019-09-14 14:12:49</td>\n",
       "      <td>0.031677</td>\n",
       "      <td>0.0</td>\n",
       "      <td>NaN</td>\n",
       "    </tr>\n",
       "    <tr>\n",
       "      <th>200927</th>\n",
       "      <td>200927</td>\n",
       "      <td>_20190914045509</td>\n",
       "      <td>62.275510</td>\n",
       "      <td>NaN</td>\n",
       "      <td>0.600424</td>\n",
       "      <td>0.600633</td>\n",
       "      <td>NaN</td>\n",
       "      <td>2000.0</td>\n",
       "      <td>33462000.0</td>\n",
       "      <td>0.015869</td>\n",
       "      <td>...</td>\n",
       "      <td>NaN</td>\n",
       "      <td>44.106167</td>\n",
       "      <td>9.817121</td>\n",
       "      <td>20190914045509_0013615</td>\n",
       "      <td>NaN</td>\n",
       "      <td>0.300317</td>\n",
       "      <td>2019-09-14 14:12:51</td>\n",
       "      <td>0.015869</td>\n",
       "      <td>0.0</td>\n",
       "      <td>NaN</td>\n",
       "    </tr>\n",
       "    <tr>\n",
       "      <th>200928</th>\n",
       "      <td>200928</td>\n",
       "      <td>_20190914045509</td>\n",
       "      <td>62.296628</td>\n",
       "      <td>NaN</td>\n",
       "      <td>1.270148</td>\n",
       "      <td>1.270323</td>\n",
       "      <td>NaN</td>\n",
       "      <td>2000.0</td>\n",
       "      <td>33464000.0</td>\n",
       "      <td>0.021118</td>\n",
       "      <td>...</td>\n",
       "      <td>NaN</td>\n",
       "      <td>44.106164</td>\n",
       "      <td>9.817136</td>\n",
       "      <td>20190914045509_0013616</td>\n",
       "      <td>NaN</td>\n",
       "      <td>0.635162</td>\n",
       "      <td>2019-09-14 14:12:53</td>\n",
       "      <td>0.021118</td>\n",
       "      <td>0.0</td>\n",
       "      <td>NaN</td>\n",
       "    </tr>\n",
       "    <tr>\n",
       "      <th>200929</th>\n",
       "      <td>200929</td>\n",
       "      <td>_20190914045509</td>\n",
       "      <td>62.333615</td>\n",
       "      <td>NaN</td>\n",
       "      <td>0.729212</td>\n",
       "      <td>0.730149</td>\n",
       "      <td>NaN</td>\n",
       "      <td>2000.0</td>\n",
       "      <td>33466000.0</td>\n",
       "      <td>0.036987</td>\n",
       "      <td>...</td>\n",
       "      <td>NaN</td>\n",
       "      <td>44.106161</td>\n",
       "      <td>9.817144</td>\n",
       "      <td>20190914045509_0013617</td>\n",
       "      <td>NaN</td>\n",
       "      <td>0.365075</td>\n",
       "      <td>2019-09-14 14:12:55</td>\n",
       "      <td>0.036987</td>\n",
       "      <td>0.0</td>\n",
       "      <td>NaN</td>\n",
       "    </tr>\n",
       "  </tbody>\n",
       "</table>\n",
       "<p>5 rows × 25 columns</p>\n",
       "</div>"
      ],
      "text/plain": [
       "        Unnamed: 0       ActivityId  AltitudeMeters  Cadence    DistXY  \\\n",
       "200925      200925  _20190914045509       62.227963      NaN  1.690275   \n",
       "200926      200926  _20190914045509       62.259641      NaN  4.177153   \n",
       "200927      200927  _20190914045509       62.275510      NaN  0.600424   \n",
       "200928      200928  _20190914045509       62.296628      NaN  1.270148   \n",
       "200929      200929  _20190914045509       62.333615      NaN  0.729212   \n",
       "\n",
       "         DistXYZ  DistanceMeters  Duration  ElapasedDuration  Elevation  ...  \\\n",
       "200925  1.690573             NaN    1000.0        33457000.0   0.031738  ...   \n",
       "200926  4.177273             NaN    3000.0        33460000.0   0.031677  ...   \n",
       "200927  0.600633             NaN    2000.0        33462000.0   0.015869  ...   \n",
       "200928  1.270323             NaN    2000.0        33464000.0   0.021118  ...   \n",
       "200929  0.730149             NaN    2000.0        33466000.0   0.036987  ...   \n",
       "\n",
       "        Heartrate  LatitudeDegrees LongitudeDegrees                   RowId  \\\n",
       "200925        NaN        44.106184         9.817067  20190914045509_0013613   \n",
       "200926        NaN        44.106166         9.817113  20190914045509_0013614   \n",
       "200927        NaN        44.106167         9.817121  20190914045509_0013615   \n",
       "200928        NaN        44.106164         9.817136  20190914045509_0013616   \n",
       "200929        NaN        44.106161         9.817144  20190914045509_0013617   \n",
       "\n",
       "        Speed  Speedmps                 Time  VerticalClimb VerticalFall  \\\n",
       "200925    NaN  1.690573  2019-09-14 14:12:46       0.031738          0.0   \n",
       "200926    NaN  1.392424  2019-09-14 14:12:49       0.031677          0.0   \n",
       "200927    NaN  0.300317  2019-09-14 14:12:51       0.015869          0.0   \n",
       "200928    NaN  0.635162  2019-09-14 14:12:53       0.021118          0.0   \n",
       "200929    NaN  0.365075  2019-09-14 14:12:55       0.036987          0.0   \n",
       "\n",
       "        Watts  \n",
       "200925    NaN  \n",
       "200926    NaN  \n",
       "200927    NaN  \n",
       "200928    NaN  \n",
       "200929    NaN  \n",
       "\n",
       "[5 rows x 25 columns]"
      ]
     },
     "execution_count": 4,
     "metadata": {},
     "output_type": "execute_result"
    }
   ],
   "source": [
    "cycledf.tail()"
   ]
  },
  {
   "cell_type": "markdown",
   "metadata": {},
   "source": [
    "# Probability Mass Functions for level, downhill and uphill"
   ]
  },
  {
   "cell_type": "code",
   "execution_count": 5,
   "metadata": {},
   "outputs": [
    {
     "data": {
      "image/png": "[encoded data removed]",
      "text/plain": [
       "<Figure size 432x288 with 1 Axes>"
      ]
     },
     "metadata": {
      "needs_background": "light"
     },
     "output_type": "display_data"
    },
    {
     "name": "stdout",
     "output_type": "stream",
     "text": [
      "Level:      Mean: 6.597,  Median: 7.0     Std: 2.67\n",
      "Uphill:     Mean: 4.935,  Median: 4.7     Std: 2.135 \n",
      "Downhill:   Mean: 8.343,  Median: 8.4     Std: 3.103 \n"
     ]
    },
    {
     "data": {
      "text/plain": [
       "<Figure size 576x432 with 0 Axes>"
      ]
     },
     "metadata": {},
     "output_type": "display_data"
    }
   ],
   "source": [
    "uphillpmf=thinkstats2.Pmf(np.round(  cycledf['Speedmps'][cycledf['Speedmps']>0][cycledf['Speedmps']<20][cycledf['VerticalClimb']>0],1))\n",
    "levelpmf=thinkstats2.Pmf(np.round(   cycledf['Speedmps'][cycledf['Speedmps']>0][cycledf['Speedmps']<20][cycledf['Gradient']==100],1))\n",
    "downhillpmf=thinkstats2.Pmf(np.round(cycledf['Speedmps'][cycledf['Speedmps']>0][cycledf['Speedmps']<20][cycledf['VerticalFall']<0],1))\n",
    "\n",
    "thinkplot.Pmf(levelpmf,label='Level')\n",
    "thinkplot.Pmf(uphillpmf,label='Uphill')\n",
    "thinkplot.Pmf(downhillpmf,label='Downhill')\n",
    "thinkplot.Config(xlim=[0,20])\n",
    "thinkplot.show()\n",
    "\n",
    "print(f'Level:      Mean: {round(levelpmf.Mean(),3)},  Median: {round(levelpmf.Median(),3)}     Std: {round(levelpmf.Std(),3)}' )\n",
    "print(f'Uphill:     Mean: {round(uphillpmf.Mean(),3)},  Median: {round(uphillpmf.Median(),3)}     Std: {round(uphillpmf.Std(),3)} ' )\n",
    "print(f'Downhill:   Mean: {round(downhillpmf.Mean(),3)},  Median: {round(downhillpmf.Median(),3)}     Std: {round(downhillpmf.Std(),3)} ' )\n",
    "\n"
   ]
  },
  {
   "cell_type": "markdown",
   "metadata": {},
   "source": [
    "# Continuous Distribution Function : Level, Uphill, Downhill"
   ]
  },
  {
   "cell_type": "code",
   "execution_count": 6,
   "metadata": {},
   "outputs": [
    {
     "data": {
      "image/png": "[encoded data removed]",
      "text/plain": [
       "<Figure size 432x288 with 1 Axes>"
      ]
     },
     "metadata": {
      "needs_background": "light"
     },
     "output_type": "display_data"
    },
    {
     "name": "stdout",
     "output_type": "stream",
     "text": [
      "Level:      5th Perc: 1.4      Median: 7.0   95th Perc: 10.4\n",
      "Uphill:     5th Perc: 2.0      Median: 4.7   95th Perc: 8.5\n",
      "Downhill:     5th Perc: 2.4      Median: 8.4   95th Perc: 13.5\n"
     ]
    },
    {
     "data": {
      "text/plain": [
       "<Figure size 576x432 with 0 Axes>"
      ]
     },
     "metadata": {},
     "output_type": "display_data"
    }
   ],
   "source": [
    "uphillcdf=thinkstats2.Cdf(np.round(  cycledf['Speedmps'][cycledf['Speedmps']>0][cycledf['Speedmps']<20][cycledf['VerticalClimb']>0],1))\n",
    "levelcdf=thinkstats2.Cdf(np.round(   cycledf['Speedmps'][cycledf['Speedmps']>0][cycledf['Speedmps']<20][cycledf['Gradient']==100],1))\n",
    "downhillcdf=thinkstats2.Cdf(np.round(cycledf['Speedmps'][cycledf['Speedmps']>0][cycledf['Speedmps']<20][cycledf['VerticalFall']<0],1))\n",
    "\n",
    "\n",
    "\n",
    "thinkplot.Cdf(levelcdf,label='Level')\n",
    "thinkplot.Cdf(uphillcdf,label='Uphill')\n",
    "thinkplot.Cdf(downhillcdf,label='Downhill')\n",
    "thinkplot.Config(xlim=[0,20])\n",
    "thinkplot.show()\n",
    "\n",
    "print(f'Level:      5th Perc: {levelcdf.Percentile(5)}      Median: {levelcdf.Percentile(50)}   95th Perc: {levelcdf.Percentile(95)}' )\n",
    "print(f'Uphill:     5th Perc: {uphillcdf.Percentile(5)}      Median: {uphillcdf.Percentile(50)}   95th Perc: {uphillcdf.Percentile(95)}' )\n",
    "print(f'Downhill:     5th Perc: {downhillcdf.Percentile(5)}      Median: {downhillcdf.Percentile(50)}   95th Perc: {downhillcdf.Percentile(95)}' )\n",
    "\n"
   ]
  },
  {
   "cell_type": "markdown",
   "metadata": {},
   "source": [
    "# Now lets experiment with gradient data"
   ]
  },
  {
   "cell_type": "code",
   "execution_count": 28,
   "metadata": {},
   "outputs": [
    {
     "name": "stdout",
     "output_type": "stream",
     "text": [
      "Up:      5th Perc: 0.6      Median: 2.1   95th Perc: 7.8\n",
      "Samplesize = 101\n",
      "Down:      5th Perc: 0.6      Median: 4.6   95th Perc: 15.7\n",
      "Samplesize = 160\n"
     ]
    },
    {
     "data": {
      "image/png": "[encoded data removed]",
      "text/plain": [
       "<Figure size 432x288 with 1 Axes>"
      ]
     },
     "metadata": {
      "needs_background": "light"
     },
     "output_type": "display_data"
    },
    {
     "data": {
      "image/png": "[encoded data removed]",
      "text/plain": [
       "<Figure size 576x432 with 1 Axes>"
      ]
     },
     "metadata": {
      "needs_background": "light"
     },
     "output_type": "display_data"
    },
    {
     "data": {
      "image/png": "[encoded data removed]",
      "text/plain": [
       "<Figure size 576x432 with 1 Axes>"
      ]
     },
     "metadata": {
      "needs_background": "light"
     },
     "output_type": "display_data"
    },
    {
     "data": {
      "text/plain": [
       "<Figure size 576x432 with 0 Axes>"
      ]
     },
     "metadata": {},
     "output_type": "display_data"
    }
   ],
   "source": [
    "workdf = cycledf['Speedmps'][cycledf['Speedmps']>=0.5][cycledf['Speedmps']<=20][cycledf['Gradient']>105][cycledf['Gradient']<=150][cycledf['VerticalClimb']>0]\n",
    "\n",
    "\n",
    "workdf2 = cycledf['Speedmps'][cycledf['Speedmps']>=0.5][cycledf['Speedmps']<=20][cycledf['Gradient']>105][cycledf['Gradient']<=150][cycledf['VerticalFall']<0]\n",
    "\n",
    "downhist=thinkstats2.Hist(np.round(workdf2,1))\n",
    "downcdf=thinkstats2.Cdf(np.round(workdf2,1))\n",
    "\n",
    "\n",
    "Up4to6hist=thinkstats2.Hist(np.round(workdf,1))\n",
    "Up4to6cdf=thinkstats2.Cdf(np.round(workdf,1))\n",
    "\n",
    "print(f'Up:      5th Perc: {Up4to6cdf.Percentile(5)}      Median: {Up4to6cdf.Percentile(50)}   95th Perc: {Up4to6cdf.Percentile(95)}' )\n",
    "print(f'Samplesize = {len(workdf)}')\n",
    "\n",
    "\n",
    "print(f'Down:      5th Perc: {downcdf.Percentile(5)}      Median: {downcdf.Percentile(50)}   95th Perc: {downcdf.Percentile(95)}' )\n",
    "print(f'Samplesize = {len(workdf2)}')\n",
    "\n",
    "thinkplot.Hist(Up4to6hist,label = 'Uphill')\n",
    "thinkplot.Config(title='Histogram')\n",
    "thinkplot.show()\n",
    "\n",
    "thinkplot.Hist(downhist,label = 'Downhill')\n",
    "thinkplot.Config(title='Histogram')\n",
    "thinkplot.show()\n",
    "\n",
    "thinkplot.Cdf(Up4to6cdf,label='Uphill')\n",
    "thinkplot.Cdf(downcdf,label='Downhill')\n",
    "thinkplot.Config(title='CDF')\n",
    "thinkplot.show()\n"
   ]
  },
  {
   "cell_type": "code",
   "execution_count": null,
   "metadata": {},
   "outputs": [],
   "source": []
  },
  {
   "cell_type": "code",
   "execution_count": null,
   "metadata": {},
   "outputs": [],
   "source": []
  }
 ],
 "metadata": {
  "kernelspec": {
   "display_name": "Python 3",
   "language": "python",
   "name": "python3"
  },
  "language_info": {
   "codemirror_mode": {
    "name": "ipython",
    "version": 3
   },
   "file_extension": ".py",
   "mimetype": "text/x-python",
   "name": "python",
   "nbconvert_exporter": "python",
   "pygments_lexer": "ipython3",
   "version": "3.7.5"
  }
 },
 "nbformat": 4,
 "nbformat_minor": 2
}
